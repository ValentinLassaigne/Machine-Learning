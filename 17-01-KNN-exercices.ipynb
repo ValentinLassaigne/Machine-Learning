{
 "cells": [
  {
   "cell_type": "markdown",
   "id": "19445d1c",
   "metadata": {},
   "source": [
    "# Régression par KNN"
   ]
  },
  {
   "cell_type": "code",
   "execution_count": 2,
   "id": "090061cf",
   "metadata": {},
   "outputs": [],
   "source": [
    "import numpy as np\n",
    "import pandas as pd\n",
    "import matplotlib as mpl\n",
    "import matplotlib.pyplot as plt"
   ]
  },
  {
   "cell_type": "code",
   "execution_count": 3,
   "id": "6a040a16",
   "metadata": {},
   "outputs": [],
   "source": [
    "mpl.rcParams['figure.figsize'] = (4, 3)"
   ]
  },
  {
   "cell_type": "code",
   "execution_count": 4,
   "id": "cf6c0fd1",
   "metadata": {},
   "outputs": [
    {
     "name": "stdout",
     "output_type": "stream",
     "text": [
      "Requirement already satisfied: scikit-learn in c:\\programdata\\anaconda3\\lib\\site-packages (1.0.2)\n",
      "Requirement already satisfied: threadpoolctl>=2.0.0 in c:\\programdata\\anaconda3\\lib\\site-packages (from scikit-learn) (2.2.0)\n",
      "Requirement already satisfied: joblib>=0.11 in c:\\programdata\\anaconda3\\lib\\site-packages (from scikit-learn) (1.1.0)\n",
      "Requirement already satisfied: numpy>=1.14.6 in c:\\programdata\\anaconda3\\lib\\site-packages (from scikit-learn) (1.21.5)\n",
      "Requirement already satisfied: scipy>=1.1.0 in c:\\programdata\\anaconda3\\lib\\site-packages (from scikit-learn) (1.7.3)\n"
     ]
    }
   ],
   "source": [
    "! pip install scikit-learn"
   ]
  },
  {
   "cell_type": "code",
   "execution_count": 5,
   "id": "b5f1f3ea",
   "metadata": {
    "lines_to_next_cell": 0
   },
   "outputs": [],
   "source": [
    "from sklearn.neighbors import KNeighborsRegressor\n",
    "from sklearn.neighbors import KNeighborsClassifier\n",
    "from sklearn import metrics"
   ]
  },
  {
   "cell_type": "markdown",
   "id": "82c724f0",
   "metadata": {},
   "source": [
    "## prédiction d'un sinus"
   ]
  },
  {
   "cell_type": "markdown",
   "id": "1ecb1e65",
   "metadata": {},
   "source": [
    "**création du sinus  bruité**"
   ]
  },
  {
   "cell_type": "markdown",
   "id": "c4c38a1a",
   "metadata": {},
   "source": [
    "on crée un sinus avec $N$ points entre $0$ et $2\\pi$ "
   ]
  },
  {
   "cell_type": "code",
   "execution_count": 6,
   "id": "e7d0eb9f",
   "metadata": {},
   "outputs": [
    {
     "data": {
      "image/png": "[encoded data removed]",
      "text/plain": [
       "<Figure size 288x216 with 1 Axes>"
      ]
     },
     "metadata": {
      "needs_background": "light"
     },
     "output_type": "display_data"
    }
   ],
   "source": [
    "N = 100\n",
    "X = np.linspace(0, 2*np.pi, N)\n",
    "a = 2\n",
    "y = a*np.sin(X) # on augmente l'amplitude de notre sinus¨\n",
    "plt.plot(X, y);"
   ]
  },
  {
   "cell_type": "markdown",
   "id": "c92cecbf",
   "metadata": {},
   "source": [
    "on bruite notre sinus en modifiant un point sur $p$ avec une valeur aléatoirement générée d'une distribution uniforme entre $[0, 1[$  \n",
    "(entre 0 et 1, donc le milieu est 0.5)"
   ]
  },
  {
   "cell_type": "code",
   "execution_count": 7,
   "id": "9d2f04a5",
   "metadata": {},
   "outputs": [],
   "source": [
    "p = 5\n",
    "middle = 0.5\n",
    "noise = middle - np.random.rand(N//p)\n",
    "# on veut des valeurs négatives aussi !"
   ]
  },
  {
   "cell_type": "code",
   "execution_count": 8,
   "id": "3fd623f5",
   "metadata": {},
   "outputs": [
    {
     "data": {
      "text/plain": [
       "((20,), (20,))"
      ]
     },
     "execution_count": 8,
     "metadata": {},
     "output_type": "execute_result"
    }
   ],
   "source": [
    "y[0:len(y):5].shape, noise.shape"
   ]
  },
  {
   "cell_type": "code",
   "execution_count": 9,
   "id": "3190a867",
   "metadata": {},
   "outputs": [
    {
     "data": {
      "image/png": "[encoded data removed]",
      "text/plain": [
       "<Figure size 288x216 with 1 Axes>"
      ]
     },
     "metadata": {
      "needs_background": "light"
     },
     "output_type": "display_data"
    }
   ],
   "source": [
    "y[::p] = y[::p] + noise # remarquez le slicing\n",
    "plt.plot(X, y);"
   ]
  },
  {
   "cell_type": "markdown",
   "id": "f01ca638",
   "metadata": {},
   "source": [
    "on fait une dataframe"
   ]
  },
  {
   "cell_type": "code",
   "execution_count": 10,
   "id": "300fd334",
   "metadata": {},
   "outputs": [
    {
     "data": {
      "image/png": "[encoded data removed]",
      "text/plain": [
       "<Figure size 288x216 with 1 Axes>"
      ]
     },
     "metadata": {
      "needs_background": "light"
     },
     "output_type": "display_data"
    }
   ],
   "source": [
    "df_sinus = pd.DataFrame()\n",
    "df_sinus['X'] = X\n",
    "df_sinus['y'] = y\n",
    "df_sinus.plot(x='X', y='y');\n",
    "# df_sinus.plot()"
   ]
  },
  {
   "cell_type": "markdown",
   "id": "3289814a",
   "metadata": {},
   "source": [
    "**plages de valeurs**"
   ]
  },
  {
   "cell_type": "markdown",
   "id": "117f1508",
   "metadata": {},
   "source": [
    "pas besoin de faire de mise à l'échelle dans notre exemple, on n'a qu'une seule colonne...  "
   ]
  },
  {
   "cell_type": "code",
   "execution_count": 11,
   "id": "1aa6bdeb",
   "metadata": {},
   "outputs": [
    {
     "data": {
      "text/plain": [
       "(0.0, 6.283185307179586)"
      ]
     },
     "execution_count": 11,
     "metadata": {},
     "output_type": "execute_result"
    }
   ],
   "source": [
    "df_sinus['X'].min(), df_sinus['X'].max()"
   ]
  },
  {
   "cell_type": "code",
   "execution_count": 12,
   "id": "22bee3ba",
   "metadata": {},
   "outputs": [
    {
     "data": {
      "text/html": [
       "<div>\n",
       "<style scoped>\n",
       "    .dataframe tbody tr th:only-of-type {\n",
       "        vertical-align: middle;\n",
       "    }\n",
       "\n",
       "    .dataframe tbody tr th {\n",
       "        vertical-align: top;\n",
       "    }\n",
       "\n",
       "    .dataframe thead th {\n",
       "        text-align: right;\n",
       "    }\n",
       "</style>\n",
       "<table border=\"1\" class=\"dataframe\">\n",
       "  <thead>\n",
       "    <tr style=\"text-align: right;\">\n",
       "      <th></th>\n",
       "      <th>X</th>\n",
       "      <th>y</th>\n",
       "    </tr>\n",
       "  </thead>\n",
       "  <tbody>\n",
       "    <tr>\n",
       "      <th>count</th>\n",
       "      <td>100.000000</td>\n",
       "      <td>100.000000</td>\n",
       "    </tr>\n",
       "    <tr>\n",
       "      <th>mean</th>\n",
       "      <td>3.141593</td>\n",
       "      <td>0.008587</td>\n",
       "    </tr>\n",
       "    <tr>\n",
       "      <th>std</th>\n",
       "      <td>1.841258</td>\n",
       "      <td>1.419039</td>\n",
       "    </tr>\n",
       "    <tr>\n",
       "      <th>min</th>\n",
       "      <td>0.000000</td>\n",
       "      <td>-2.039650</td>\n",
       "    </tr>\n",
       "    <tr>\n",
       "      <th>25%</th>\n",
       "      <td>1.570796</td>\n",
       "      <td>-1.386863</td>\n",
       "    </tr>\n",
       "    <tr>\n",
       "      <th>50%</th>\n",
       "      <td>3.141593</td>\n",
       "      <td>0.031728</td>\n",
       "    </tr>\n",
       "    <tr>\n",
       "      <th>75%</th>\n",
       "      <td>4.712389</td>\n",
       "      <td>1.382831</td>\n",
       "    </tr>\n",
       "    <tr>\n",
       "      <th>max</th>\n",
       "      <td>6.283185</td>\n",
       "      <td>2.312001</td>\n",
       "    </tr>\n",
       "  </tbody>\n",
       "</table>\n",
       "</div>"
      ],
      "text/plain": [
       "                X           y\n",
       "count  100.000000  100.000000\n",
       "mean     3.141593    0.008587\n",
       "std      1.841258    1.419039\n",
       "min      0.000000   -2.039650\n",
       "25%      1.570796   -1.386863\n",
       "50%      3.141593    0.031728\n",
       "75%      4.712389    1.382831\n",
       "max      6.283185    2.312001"
      ]
     },
     "execution_count": 12,
     "metadata": {},
     "output_type": "execute_result"
    }
   ],
   "source": [
    "df_sinus.describe()"
   ]
  },
  {
   "cell_type": "markdown",
   "id": "d5c459a5",
   "metadata": {},
   "source": [
    "### entraînement d'un prédicteur par KNN-régression"
   ]
  },
  {
   "cell_type": "code",
   "execution_count": 13,
   "id": "01c5d0ef",
   "metadata": {
    "lines_to_next_cell": 0
   },
   "outputs": [],
   "source": [
    "from sklearn.neighbors import KNeighborsRegressor\n",
    "from sklearn.neighbors import KNeighborsClassifier\n",
    "from sklearn import metrics"
   ]
  },
  {
   "cell_type": "markdown",
   "id": "7b4848f1",
   "metadata": {},
   "source": [
    "`KNeighborsRegressor(n_neighbors=5, *, weights='uniform', algorithm='auto', leaf_size=30, p=2, metric='minkowski', metric_params=None, n_jobs=None)`"
   ]
  },
  {
   "cell_type": "code",
   "execution_count": 14,
   "id": "3ff3a63a",
   "metadata": {},
   "outputs": [],
   "source": [
    "# help(KNeighborsRegressor)"
   ]
  },
  {
   "cell_type": "markdown",
   "id": "43607c86",
   "metadata": {},
   "source": [
    "les paramètres de la méthode (ceux qui nous intéressent aujourd'hui)\n",
    "\n",
    "\n",
    "- `n_neighbors` le $k$ (qui ici peut varier de $1$ à $100$)\n",
    "\n",
    "\n",
    "- `weights` la pondération  \n",
    "par défaut `'uniform'`  \n",
    "peut-être `'distance'` (inverse de la distance)  \n",
    "une une fonction à vous\n",
    "\n",
    "\n",
    "- `algorithm` l'algorithme utilisé pour le calcul des $k$ plus proches voisins  \n",
    "par défaut `'auto'` qui essaie de prendre le meilleur  \n",
    "`'ball_tree'`, `'kd_tree'`, `'brute'` (brute-force search)\n",
    "\n",
    "- `metric` la fonction de calcul de distance  \n",
    "par défaut `'minkowski'` auquel on peut indiquer `p` (standard Euclidean distance quand p vaut 2)\n",
    "\n",
    "\n",
    "- et d'autres paramètres, comme `p`, qui dépendent de nos autres choix de paramètres"
   ]
  },
  {
   "cell_type": "code",
   "execution_count": 15,
   "id": "06ef52a6",
   "metadata": {},
   "outputs": [],
   "source": [
    "n_neighbors = 8\n",
    "\n",
    "# on construit un prédicteur de régression par KNN avec k = n_neighbors\n",
    "knn_model = KNeighborsRegressor(n_neighbors=n_neighbors)\n",
    "\n",
    "# un autre pour tester\n",
    "knn_sinus = KNeighborsRegressor(n_neighbors=n_neighbors)"
   ]
  },
  {
   "cell_type": "code",
   "execution_count": 16,
   "id": "b926a396",
   "metadata": {},
   "outputs": [
    {
     "data": {
      "text/plain": [
       "((100, 1), (100,))"
      ]
     },
     "execution_count": 16,
     "metadata": {},
     "output_type": "execute_result"
    }
   ],
   "source": [
    "# on sépare entrées et sorties pour l'entraînement\n",
    "X = df_sinus[['X']].to_numpy()\n",
    "y = df_sinus['y'].to_numpy()\n",
    "\n",
    "X.shape, y.shape"
   ]
  },
  {
   "cell_type": "code",
   "execution_count": 17,
   "id": "c3f91451",
   "metadata": {},
   "outputs": [],
   "source": [
    "# on entraîne le modèle sur un tableau numpy\n",
    "knn_sinus.fit(X, y);"
   ]
  },
  {
   "cell_type": "code",
   "execution_count": 18,
   "id": "95d176df",
   "metadata": {},
   "outputs": [],
   "source": [
    "# on entraîne le modèle sur un tableau pandas\n",
    "knn_model.fit(df_sinus[['X']], df_sinus['y']);"
   ]
  },
  {
   "cell_type": "markdown",
   "id": "21e9d55a",
   "metadata": {},
   "source": [
    "### prédiction des données d'entraînement"
   ]
  },
  {
   "cell_type": "markdown",
   "id": "4167be77",
   "metadata": {},
   "source": [
    "le modèle a été entraîné, on peut prédire des valeurs  \n",
    "par exemple celles du jeu d'entraînement"
   ]
  },
  {
   "cell_type": "code",
   "execution_count": 19,
   "id": "93bae389",
   "metadata": {},
   "outputs": [],
   "source": [
    "# on prédit les données d'entraînement avec le prédicteur\n",
    "y_fit = knn_model.predict(df_sinus[['X']])"
   ]
  },
  {
   "cell_type": "code",
   "execution_count": 20,
   "id": "d358fec2",
   "metadata": {},
   "outputs": [
    {
     "data": {
      "text/plain": [
       "[<matplotlib.lines.Line2D at 0x14fa463c5e0>]"
      ]
     },
     "execution_count": 20,
     "metadata": {},
     "output_type": "execute_result"
    },
    {
     "data": {
      "image/png": "[encoded data removed]",
      "text/plain": [
       "<Figure size 288x216 with 1 Axes>"
      ]
     },
     "metadata": {
      "needs_background": "light"
     },
     "output_type": "display_data"
    }
   ],
   "source": [
    "# on plot les données générées\n",
    "plt.plot(df_sinus['X'], y_fit)"
   ]
  },
  {
   "cell_type": "markdown",
   "id": "5549ba88",
   "metadata": {},
   "source": [
    "on obtient un sinus moins bruité"
   ]
  },
  {
   "cell_type": "markdown",
   "id": "a334f4e0",
   "metadata": {},
   "source": [
    "pourquoi y-a-t-il les zones horizontales en début et en fin de prédiction ?  \n",
    "à cause de la non existence des plus proches voisins"
   ]
  },
  {
   "cell_type": "markdown",
   "id": "d46d674e",
   "metadata": {},
   "source": [
    "### qualité du prédicteur - métriques\n",
    "\n",
    "on calcule les erreurs"
   ]
  },
  {
   "cell_type": "markdown",
   "id": "afa796fb",
   "metadata": {},
   "source": [
    "calculons la RMSE (root-mean-square-error) et la MSE (mean-square-error)"
   ]
  },
  {
   "cell_type": "code",
   "execution_count": 21,
   "id": "c3cef2ae",
   "metadata": {},
   "outputs": [
    {
     "data": {
      "text/plain": [
       "0.15874782932959774"
      ]
     },
     "execution_count": 21,
     "metadata": {},
     "output_type": "execute_result"
    }
   ],
   "source": [
    "np.sqrt(np.sum(np.power(y_fit - df_sinus['y'], 2))/len(df_sinus))"
   ]
  },
  {
   "cell_type": "markdown",
   "id": "7d3edaea",
   "metadata": {},
   "source": [
    "en fait on a des tas de métriques prédéfinies dans `metrics`  \n",
    "utilisons `metrics.mean_squared_error`  \n",
    "`squared` is True it is MSE value, RMSE if False"
   ]
  },
  {
   "cell_type": "code",
   "execution_count": 22,
   "id": "c6e01ab5",
   "metadata": {},
   "outputs": [
    {
     "data": {
      "text/plain": [
       "0.15874782932959774"
      ]
     },
     "execution_count": 22,
     "metadata": {},
     "output_type": "execute_result"
    }
   ],
   "source": [
    "metrics.mean_squared_error(y_fit, df_sinus['y'], squared=False)"
   ]
  },
  {
   "cell_type": "code",
   "execution_count": 23,
   "id": "7c2cd480",
   "metadata": {},
   "outputs": [
    {
     "data": {
      "text/plain": [
       "0.025200873316859093"
      ]
     },
     "execution_count": 23,
     "metadata": {},
     "output_type": "execute_result"
    }
   ],
   "source": [
    "np.sum(np.power(y_fit - df_sinus['y'], 2))/len(df_sinus)"
   ]
  },
  {
   "cell_type": "code",
   "execution_count": 24,
   "id": "3a591194",
   "metadata": {},
   "outputs": [
    {
     "data": {
      "text/plain": [
       "0.025200873316859093"
      ]
     },
     "execution_count": 24,
     "metadata": {},
     "output_type": "execute_result"
    }
   ],
   "source": [
    "metrics.mean_squared_error(y_fit, df_sinus['y'], squared=True)"
   ]
  },
  {
   "cell_type": "markdown",
   "id": "fe3df388",
   "metadata": {},
   "source": [
    "### prédiction de données de tests"
   ]
  },
  {
   "cell_type": "markdown",
   "id": "7cc4b4f5",
   "metadata": {},
   "source": [
    "### sur tableau `numpy`"
   ]
  },
  {
   "cell_type": "markdown",
   "id": "5489dfdd",
   "metadata": {},
   "source": [
    "on génère de nouveaux points linéairement espacés entre $0$ et $2 \\pi$"
   ]
  },
  {
   "cell_type": "code",
   "execution_count": 25,
   "id": "1b893567",
   "metadata": {},
   "outputs": [
    {
     "data": {
      "text/plain": [
       "(500,)"
      ]
     },
     "execution_count": 25,
     "metadata": {},
     "output_type": "execute_result"
    }
   ],
   "source": [
    "n = 500\n",
    "pts = np.linspace(0, 2*np.pi, n)\n",
    "pts.shape"
   ]
  },
  {
   "cell_type": "markdown",
   "id": "da8bc8d8",
   "metadata": {},
   "source": [
    "lors de l'entraînement, la forme de tableau était une matrice $(100, 1)$ i.e. $100$ lignes et $1$ colonne  \n",
    "les prédictions se feront donc sur des tableaux de cette forme $(n, 1)$"
   ]
  },
  {
   "cell_type": "code",
   "execution_count": 26,
   "id": "f8919ce6",
   "metadata": {},
   "outputs": [
    {
     "data": {
      "text/plain": [
       "((100, 1), (100, 1))"
      ]
     },
     "execution_count": 26,
     "metadata": {},
     "output_type": "execute_result"
    }
   ],
   "source": [
    "df_sinus[['X']].shape, X.shape\n",
    "# le premier est un tableau pandas le second un tableau numpy"
   ]
  },
  {
   "cell_type": "markdown",
   "id": "99c217ae",
   "metadata": {},
   "source": [
    "la forme du tableau généré n'est pas la bonne: on doit la modifier pour obtenuir les prédictions"
   ]
  },
  {
   "cell_type": "code",
   "execution_count": 27,
   "id": "70c4727c",
   "metadata": {},
   "outputs": [
    {
     "data": {
      "text/plain": [
       "(500,)"
      ]
     },
     "execution_count": 27,
     "metadata": {},
     "output_type": "execute_result"
    }
   ],
   "source": [
    "pts.shape"
   ]
  },
  {
   "cell_type": "markdown",
   "id": "95bc8026",
   "metadata": {},
   "source": [
    "on lui donne la forme d'une matrice de $n$ observstions et $1$ colonne"
   ]
  },
  {
   "cell_type": "code",
   "execution_count": 28,
   "id": "54a01662",
   "metadata": {},
   "outputs": [
    {
     "data": {
      "text/plain": [
       "(500, 1)"
      ]
     },
     "execution_count": 28,
     "metadata": {},
     "output_type": "execute_result"
    }
   ],
   "source": [
    "pts = pts.reshape(-1, 1)\n",
    "pts.shape"
   ]
  },
  {
   "cell_type": "code",
   "execution_count": 29,
   "id": "20d7293d",
   "metadata": {},
   "outputs": [
    {
     "data": {
      "text/plain": [
       "numpy.ndarray"
      ]
     },
     "execution_count": 29,
     "metadata": {},
     "output_type": "execute_result"
    }
   ],
   "source": [
    "type(pts)"
   ]
  },
  {
   "cell_type": "code",
   "execution_count": 30,
   "id": "a378111b",
   "metadata": {},
   "outputs": [],
   "source": [
    "y_pred = knn_sinus.predict(pts)"
   ]
  },
  {
   "cell_type": "code",
   "execution_count": 31,
   "id": "1703426f",
   "metadata": {},
   "outputs": [
    {
     "data": {
      "image/png": "[encoded data removed]",
      "text/plain": [
       "<Figure size 288x216 with 1 Axes>"
      ]
     },
     "metadata": {
      "needs_background": "light"
     },
     "output_type": "display_data"
    }
   ],
   "source": [
    "plt.plot(y_pred);"
   ]
  },
  {
   "cell_type": "markdown",
   "id": "f54166fe",
   "metadata": {},
   "source": [
    "### sur tableau `pandas`"
   ]
  },
  {
   "cell_type": "markdown",
   "id": "4064a942",
   "metadata": {},
   "source": [
    "on génère de nouveaux points linéairement espacés entre $0$ et $2 \\pi$"
   ]
  },
  {
   "cell_type": "code",
   "execution_count": 32,
   "id": "12c152e2",
   "metadata": {},
   "outputs": [
    {
     "data": {
      "text/html": [
       "<div>\n",
       "<style scoped>\n",
       "    .dataframe tbody tr th:only-of-type {\n",
       "        vertical-align: middle;\n",
       "    }\n",
       "\n",
       "    .dataframe tbody tr th {\n",
       "        vertical-align: top;\n",
       "    }\n",
       "\n",
       "    .dataframe thead th {\n",
       "        text-align: right;\n",
       "    }\n",
       "</style>\n",
       "<table border=\"1\" class=\"dataframe\">\n",
       "  <thead>\n",
       "    <tr style=\"text-align: right;\">\n",
       "      <th></th>\n",
       "      <th>X</th>\n",
       "    </tr>\n",
       "  </thead>\n",
       "  <tbody>\n",
       "    <tr>\n",
       "      <th>0</th>\n",
       "      <td>0.000000</td>\n",
       "    </tr>\n",
       "    <tr>\n",
       "      <th>1</th>\n",
       "      <td>0.063467</td>\n",
       "    </tr>\n",
       "    <tr>\n",
       "      <th>2</th>\n",
       "      <td>0.126933</td>\n",
       "    </tr>\n",
       "    <tr>\n",
       "      <th>3</th>\n",
       "      <td>0.190400</td>\n",
       "    </tr>\n",
       "    <tr>\n",
       "      <th>4</th>\n",
       "      <td>0.253866</td>\n",
       "    </tr>\n",
       "  </tbody>\n",
       "</table>\n",
       "</div>"
      ],
      "text/plain": [
       "          X\n",
       "0  0.000000\n",
       "1  0.063467\n",
       "2  0.126933\n",
       "3  0.190400\n",
       "4  0.253866"
      ]
     },
     "execution_count": 32,
     "metadata": {},
     "output_type": "execute_result"
    }
   ],
   "source": [
    "n = 100\n",
    "df_pred = pd.DataFrame(np.linspace(0, 2*np.pi, n),\n",
    "                      columns=['X'])\n",
    "df_pred.head()"
   ]
  },
  {
   "cell_type": "code",
   "execution_count": 33,
   "id": "f3643c21",
   "metadata": {},
   "outputs": [],
   "source": [
    "df_pred['y'] = knn_model.predict(df_pred[['X']])"
   ]
  },
  {
   "cell_type": "code",
   "execution_count": 34,
   "id": "aabab606",
   "metadata": {},
   "outputs": [
    {
     "data": {
      "image/png": "[encoded data removed]",
      "text/plain": [
       "<Figure size 288x216 with 1 Axes>"
      ]
     },
     "metadata": {
      "needs_background": "light"
     },
     "output_type": "display_data"
    }
   ],
   "source": [
    "plt.plot(df_pred['X'], df_pred['y']);"
   ]
  },
  {
   "cell_type": "markdown",
   "id": "3fcb4a23",
   "metadata": {},
   "source": [
    "pourquoi y-a-t-il les zones horizontales en début et en fin de prédiction ?  \n",
    "à cause de la non existence des plus proches voisins"
   ]
  },
  {
   "cell_type": "markdown",
   "id": "bf752595",
   "metadata": {},
   "source": [
    "qualité du sinus ?  \n",
    "qualité de la prédiction ?  \n",
    "les données pour la prédiction ont-elles la même distibution que les données d'entraînement ? heu non"
   ]
  },
  {
   "cell_type": "code",
   "execution_count": 35,
   "id": "147a2c5b",
   "metadata": {},
   "outputs": [
    {
     "data": {
      "text/plain": [
       "0.6981135440022824"
      ]
     },
     "execution_count": 35,
     "metadata": {},
     "output_type": "execute_result"
    }
   ],
   "source": [
    "metrics.mean_squared_error(np.sin(df_pred['X']), df_pred['y'], squared=False)"
   ]
  },
  {
   "cell_type": "markdown",
   "id": "ac8860b8",
   "metadata": {},
   "source": [
    "## mise à l'échelle des caractéristiques"
   ]
  },
  {
   "cell_type": "code",
   "execution_count": 36,
   "id": "bb568b83",
   "metadata": {},
   "outputs": [],
   "source": [
    "from sklearn.preprocessing import StandardScaler, MinMaxScaler"
   ]
  },
  {
   "cell_type": "markdown",
   "id": "45096221",
   "metadata": {},
   "source": [
    "on fait une dataframe avec 2 colonnes dont les plages de valeurs sont très différentes"
   ]
  },
  {
   "cell_type": "code",
   "execution_count": 37,
   "id": "3e4a818c",
   "metadata": {},
   "outputs": [
    {
     "data": {
      "text/html": [
       "<div>\n",
       "<style scoped>\n",
       "    .dataframe tbody tr th:only-of-type {\n",
       "        vertical-align: middle;\n",
       "    }\n",
       "\n",
       "    .dataframe tbody tr th {\n",
       "        vertical-align: top;\n",
       "    }\n",
       "\n",
       "    .dataframe thead th {\n",
       "        text-align: right;\n",
       "    }\n",
       "</style>\n",
       "<table border=\"1\" class=\"dataframe\">\n",
       "  <thead>\n",
       "    <tr style=\"text-align: right;\">\n",
       "      <th></th>\n",
       "      <th>X1</th>\n",
       "      <th>X2</th>\n",
       "    </tr>\n",
       "  </thead>\n",
       "  <tbody>\n",
       "    <tr>\n",
       "      <th>0</th>\n",
       "      <td>8.054207</td>\n",
       "      <td>726.578030</td>\n",
       "    </tr>\n",
       "    <tr>\n",
       "      <th>1</th>\n",
       "      <td>9.244811</td>\n",
       "      <td>725.387383</td>\n",
       "    </tr>\n",
       "    <tr>\n",
       "      <th>2</th>\n",
       "      <td>8.598188</td>\n",
       "      <td>724.897098</td>\n",
       "    </tr>\n",
       "    <tr>\n",
       "      <th>3</th>\n",
       "      <td>5.713117</td>\n",
       "      <td>723.650864</td>\n",
       "    </tr>\n",
       "    <tr>\n",
       "      <th>4</th>\n",
       "      <td>5.231424</td>\n",
       "      <td>720.845011</td>\n",
       "    </tr>\n",
       "  </tbody>\n",
       "</table>\n",
       "</div>"
      ],
      "text/plain": [
       "         X1          X2\n",
       "0  8.054207  726.578030\n",
       "1  9.244811  725.387383\n",
       "2  8.598188  724.897098\n",
       "3  5.713117  723.650864\n",
       "4  5.231424  720.845011"
      ]
     },
     "execution_count": 37,
     "metadata": {},
     "output_type": "execute_result"
    },
    {
     "data": {
      "image/png": "[encoded data removed]",
      "text/plain": [
       "<Figure size 288x216 with 1 Axes>"
      ]
     },
     "metadata": {
      "needs_background": "light"
     },
     "output_type": "display_data"
    }
   ],
   "source": [
    "df = pd.DataFrame()\n",
    "m1, s1 = 1, 4.8\n",
    "m2, s2 = 100, 7.2\n",
    "df['X1'] = (np.random.rand(100)+m1)*s1\n",
    "df['X2'] = (np.random.rand(100)+m2)*s2\n",
    "df.plot();\n",
    "df.head()"
   ]
  },
  {
   "cell_type": "markdown",
   "id": "9233dc3c",
   "metadata": {},
   "source": [
    "on met à l'échelle par normalisation"
   ]
  },
  {
   "cell_type": "code",
   "execution_count": 38,
   "id": "8f377c43",
   "metadata": {},
   "outputs": [],
   "source": [
    "tab = StandardScaler().fit(df).transform(df)"
   ]
  },
  {
   "cell_type": "code",
   "execution_count": 39,
   "id": "6d6bfe19",
   "metadata": {},
   "outputs": [
    {
     "data": {
      "text/plain": [
       "<AxesSubplot:>"
      ]
     },
     "execution_count": 39,
     "metadata": {},
     "output_type": "execute_result"
    },
    {
     "data": {
      "image/png": "[encoded data removed]",
      "text/plain": [
       "<Figure size 288x216 with 1 Axes>"
      ]
     },
     "metadata": {
      "needs_background": "light"
     },
     "output_type": "display_data"
    }
   ],
   "source": [
    "df_std_scaled = pd.DataFrame(tab, columns=df.columns)\n",
    "df_std_scaled.plot()"
   ]
  },
  {
   "cell_type": "markdown",
   "id": "6fbe3f6a",
   "metadata": {},
   "source": [
    "on met à l'échelle par min-max"
   ]
  },
  {
   "cell_type": "code",
   "execution_count": 40,
   "id": "2be8cb50",
   "metadata": {},
   "outputs": [
    {
     "data": {
      "text/plain": [
       "<AxesSubplot:>"
      ]
     },
     "execution_count": 40,
     "metadata": {},
     "output_type": "execute_result"
    },
    {
     "data": {
      "image/png": "[encoded data removed]",
      "text/plain": [
       "<Figure size 288x216 with 1 Axes>"
      ]
     },
     "metadata": {
      "needs_background": "light"
     },
     "output_type": "display_data"
    }
   ],
   "source": [
    "tab = MinMaxScaler().fit(df).transform(df)\n",
    "\n",
    "df_min_max_scaled = pd.DataFrame(tab, columns=df.columns)\n",
    "df_min_max_scaled.plot()"
   ]
  },
  {
   "cell_type": "markdown",
   "id": "a8da033e",
   "metadata": {},
   "source": [
    "## jeu d'entraînement et jeu de test (validation)"
   ]
  },
  {
   "cell_type": "markdown",
   "id": "4219dd6b",
   "metadata": {},
   "source": [
    "découpons les observations dont nous disposons en\n",
    "- un jeu de d'entraînement\n",
    "- un  jeu de test"
   ]
  },
  {
   "cell_type": "code",
   "execution_count": 41,
   "id": "3855a997",
   "metadata": {},
   "outputs": [],
   "source": [
    "from sklearn.model_selection import train_test_split"
   ]
  },
  {
   "cell_type": "code",
   "execution_count": 42,
   "id": "c453171c",
   "metadata": {},
   "outputs": [
    {
     "ename": "FileNotFoundError",
     "evalue": "[Errno 2] No such file or directory: './iris.csv'",
     "output_type": "error",
     "traceback": [
      "\u001b[1;31m---------------------------------------------------------------------------\u001b[0m",
      "\u001b[1;31mFileNotFoundError\u001b[0m                         Traceback (most recent call last)",
      "\u001b[1;32mc:\\Valentin Lassaigne\\Optim\\Machine Learning\\17-01-KNN-exercices.ipynb Cellule 75\u001b[0m in \u001b[0;36m<cell line: 1>\u001b[1;34m()\u001b[0m\n\u001b[1;32m----> <a href='vscode-notebook-cell:/c%3A/Valentin%20Lassaigne/Optim/Machine%20Learning/17-01-KNN-exercices.ipynb#Y134sZmlsZQ%3D%3D?line=0'>1</a>\u001b[0m df_iris \u001b[39m=\u001b[39m pd\u001b[39m.\u001b[39;49mread_csv(\u001b[39m'\u001b[39;49m\u001b[39m./iris.csv\u001b[39;49m\u001b[39m'\u001b[39;49m)\n\u001b[0;32m      <a href='vscode-notebook-cell:/c%3A/Valentin%20Lassaigne/Optim/Machine%20Learning/17-01-KNN-exercices.ipynb#Y134sZmlsZQ%3D%3D?line=1'>2</a>\u001b[0m df_iris\u001b[39m.\u001b[39mhead()\n",
      "File \u001b[1;32mc:\\ProgramData\\Anaconda3\\lib\\site-packages\\pandas\\util\\_decorators.py:311\u001b[0m, in \u001b[0;36mdeprecate_nonkeyword_arguments.<locals>.decorate.<locals>.wrapper\u001b[1;34m(*args, **kwargs)\u001b[0m\n\u001b[0;32m    305\u001b[0m \u001b[39mif\u001b[39;00m \u001b[39mlen\u001b[39m(args) \u001b[39m>\u001b[39m num_allow_args:\n\u001b[0;32m    306\u001b[0m     warnings\u001b[39m.\u001b[39mwarn(\n\u001b[0;32m    307\u001b[0m         msg\u001b[39m.\u001b[39mformat(arguments\u001b[39m=\u001b[39marguments),\n\u001b[0;32m    308\u001b[0m         \u001b[39mFutureWarning\u001b[39;00m,\n\u001b[0;32m    309\u001b[0m         stacklevel\u001b[39m=\u001b[39mstacklevel,\n\u001b[0;32m    310\u001b[0m     )\n\u001b[1;32m--> 311\u001b[0m \u001b[39mreturn\u001b[39;00m func(\u001b[39m*\u001b[39margs, \u001b[39m*\u001b[39m\u001b[39m*\u001b[39mkwargs)\n",
      "File \u001b[1;32mc:\\ProgramData\\Anaconda3\\lib\\site-packages\\pandas\\io\\parsers\\readers.py:680\u001b[0m, in \u001b[0;36mread_csv\u001b[1;34m(filepath_or_buffer, sep, delimiter, header, names, index_col, usecols, squeeze, prefix, mangle_dupe_cols, dtype, engine, converters, true_values, false_values, skipinitialspace, skiprows, skipfooter, nrows, na_values, keep_default_na, na_filter, verbose, skip_blank_lines, parse_dates, infer_datetime_format, keep_date_col, date_parser, dayfirst, cache_dates, iterator, chunksize, compression, thousands, decimal, lineterminator, quotechar, quoting, doublequote, escapechar, comment, encoding, encoding_errors, dialect, error_bad_lines, warn_bad_lines, on_bad_lines, delim_whitespace, low_memory, memory_map, float_precision, storage_options)\u001b[0m\n\u001b[0;32m    665\u001b[0m kwds_defaults \u001b[39m=\u001b[39m _refine_defaults_read(\n\u001b[0;32m    666\u001b[0m     dialect,\n\u001b[0;32m    667\u001b[0m     delimiter,\n\u001b[1;32m   (...)\u001b[0m\n\u001b[0;32m    676\u001b[0m     defaults\u001b[39m=\u001b[39m{\u001b[39m\"\u001b[39m\u001b[39mdelimiter\u001b[39m\u001b[39m\"\u001b[39m: \u001b[39m\"\u001b[39m\u001b[39m,\u001b[39m\u001b[39m\"\u001b[39m},\n\u001b[0;32m    677\u001b[0m )\n\u001b[0;32m    678\u001b[0m kwds\u001b[39m.\u001b[39mupdate(kwds_defaults)\n\u001b[1;32m--> 680\u001b[0m \u001b[39mreturn\u001b[39;00m _read(filepath_or_buffer, kwds)\n",
      "File \u001b[1;32mc:\\ProgramData\\Anaconda3\\lib\\site-packages\\pandas\\io\\parsers\\readers.py:575\u001b[0m, in \u001b[0;36m_read\u001b[1;34m(filepath_or_buffer, kwds)\u001b[0m\n\u001b[0;32m    572\u001b[0m _validate_names(kwds\u001b[39m.\u001b[39mget(\u001b[39m\"\u001b[39m\u001b[39mnames\u001b[39m\u001b[39m\"\u001b[39m, \u001b[39mNone\u001b[39;00m))\n\u001b[0;32m    574\u001b[0m \u001b[39m# Create the parser.\u001b[39;00m\n\u001b[1;32m--> 575\u001b[0m parser \u001b[39m=\u001b[39m TextFileReader(filepath_or_buffer, \u001b[39m*\u001b[39m\u001b[39m*\u001b[39mkwds)\n\u001b[0;32m    577\u001b[0m \u001b[39mif\u001b[39;00m chunksize \u001b[39mor\u001b[39;00m iterator:\n\u001b[0;32m    578\u001b[0m     \u001b[39mreturn\u001b[39;00m parser\n",
      "File \u001b[1;32mc:\\ProgramData\\Anaconda3\\lib\\site-packages\\pandas\\io\\parsers\\readers.py:933\u001b[0m, in \u001b[0;36mTextFileReader.__init__\u001b[1;34m(self, f, engine, **kwds)\u001b[0m\n\u001b[0;32m    930\u001b[0m     \u001b[39mself\u001b[39m\u001b[39m.\u001b[39moptions[\u001b[39m\"\u001b[39m\u001b[39mhas_index_names\u001b[39m\u001b[39m\"\u001b[39m] \u001b[39m=\u001b[39m kwds[\u001b[39m\"\u001b[39m\u001b[39mhas_index_names\u001b[39m\u001b[39m\"\u001b[39m]\n\u001b[0;32m    932\u001b[0m \u001b[39mself\u001b[39m\u001b[39m.\u001b[39mhandles: IOHandles \u001b[39m|\u001b[39m \u001b[39mNone\u001b[39;00m \u001b[39m=\u001b[39m \u001b[39mNone\u001b[39;00m\n\u001b[1;32m--> 933\u001b[0m \u001b[39mself\u001b[39m\u001b[39m.\u001b[39m_engine \u001b[39m=\u001b[39m \u001b[39mself\u001b[39;49m\u001b[39m.\u001b[39;49m_make_engine(f, \u001b[39mself\u001b[39;49m\u001b[39m.\u001b[39;49mengine)\n",
      "File \u001b[1;32mc:\\ProgramData\\Anaconda3\\lib\\site-packages\\pandas\\io\\parsers\\readers.py:1217\u001b[0m, in \u001b[0;36mTextFileReader._make_engine\u001b[1;34m(self, f, engine)\u001b[0m\n\u001b[0;32m   1213\u001b[0m     mode \u001b[39m=\u001b[39m \u001b[39m\"\u001b[39m\u001b[39mrb\u001b[39m\u001b[39m\"\u001b[39m\n\u001b[0;32m   1214\u001b[0m \u001b[39m# error: No overload variant of \"get_handle\" matches argument types\u001b[39;00m\n\u001b[0;32m   1215\u001b[0m \u001b[39m# \"Union[str, PathLike[str], ReadCsvBuffer[bytes], ReadCsvBuffer[str]]\"\u001b[39;00m\n\u001b[0;32m   1216\u001b[0m \u001b[39m# , \"str\", \"bool\", \"Any\", \"Any\", \"Any\", \"Any\", \"Any\"\u001b[39;00m\n\u001b[1;32m-> 1217\u001b[0m \u001b[39mself\u001b[39m\u001b[39m.\u001b[39mhandles \u001b[39m=\u001b[39m get_handle(  \u001b[39m# type: ignore[call-overload]\u001b[39;49;00m\n\u001b[0;32m   1218\u001b[0m     f,\n\u001b[0;32m   1219\u001b[0m     mode,\n\u001b[0;32m   1220\u001b[0m     encoding\u001b[39m=\u001b[39;49m\u001b[39mself\u001b[39;49m\u001b[39m.\u001b[39;49moptions\u001b[39m.\u001b[39;49mget(\u001b[39m\"\u001b[39;49m\u001b[39mencoding\u001b[39;49m\u001b[39m\"\u001b[39;49m, \u001b[39mNone\u001b[39;49;00m),\n\u001b[0;32m   1221\u001b[0m     compression\u001b[39m=\u001b[39;49m\u001b[39mself\u001b[39;49m\u001b[39m.\u001b[39;49moptions\u001b[39m.\u001b[39;49mget(\u001b[39m\"\u001b[39;49m\u001b[39mcompression\u001b[39;49m\u001b[39m\"\u001b[39;49m, \u001b[39mNone\u001b[39;49;00m),\n\u001b[0;32m   1222\u001b[0m     memory_map\u001b[39m=\u001b[39;49m\u001b[39mself\u001b[39;49m\u001b[39m.\u001b[39;49moptions\u001b[39m.\u001b[39;49mget(\u001b[39m\"\u001b[39;49m\u001b[39mmemory_map\u001b[39;49m\u001b[39m\"\u001b[39;49m, \u001b[39mFalse\u001b[39;49;00m),\n\u001b[0;32m   1223\u001b[0m     is_text\u001b[39m=\u001b[39;49mis_text,\n\u001b[0;32m   1224\u001b[0m     errors\u001b[39m=\u001b[39;49m\u001b[39mself\u001b[39;49m\u001b[39m.\u001b[39;49moptions\u001b[39m.\u001b[39;49mget(\u001b[39m\"\u001b[39;49m\u001b[39mencoding_errors\u001b[39;49m\u001b[39m\"\u001b[39;49m, \u001b[39m\"\u001b[39;49m\u001b[39mstrict\u001b[39;49m\u001b[39m\"\u001b[39;49m),\n\u001b[0;32m   1225\u001b[0m     storage_options\u001b[39m=\u001b[39;49m\u001b[39mself\u001b[39;49m\u001b[39m.\u001b[39;49moptions\u001b[39m.\u001b[39;49mget(\u001b[39m\"\u001b[39;49m\u001b[39mstorage_options\u001b[39;49m\u001b[39m\"\u001b[39;49m, \u001b[39mNone\u001b[39;49;00m),\n\u001b[0;32m   1226\u001b[0m )\n\u001b[0;32m   1227\u001b[0m \u001b[39massert\u001b[39;00m \u001b[39mself\u001b[39m\u001b[39m.\u001b[39mhandles \u001b[39mis\u001b[39;00m \u001b[39mnot\u001b[39;00m \u001b[39mNone\u001b[39;00m\n\u001b[0;32m   1228\u001b[0m f \u001b[39m=\u001b[39m \u001b[39mself\u001b[39m\u001b[39m.\u001b[39mhandles\u001b[39m.\u001b[39mhandle\n",
      "File \u001b[1;32mc:\\ProgramData\\Anaconda3\\lib\\site-packages\\pandas\\io\\common.py:789\u001b[0m, in \u001b[0;36mget_handle\u001b[1;34m(path_or_buf, mode, encoding, compression, memory_map, is_text, errors, storage_options)\u001b[0m\n\u001b[0;32m    784\u001b[0m \u001b[39melif\u001b[39;00m \u001b[39misinstance\u001b[39m(handle, \u001b[39mstr\u001b[39m):\n\u001b[0;32m    785\u001b[0m     \u001b[39m# Check whether the filename is to be opened in binary mode.\u001b[39;00m\n\u001b[0;32m    786\u001b[0m     \u001b[39m# Binary mode does not support 'encoding' and 'newline'.\u001b[39;00m\n\u001b[0;32m    787\u001b[0m     \u001b[39mif\u001b[39;00m ioargs\u001b[39m.\u001b[39mencoding \u001b[39mand\u001b[39;00m \u001b[39m\"\u001b[39m\u001b[39mb\u001b[39m\u001b[39m\"\u001b[39m \u001b[39mnot\u001b[39;00m \u001b[39min\u001b[39;00m ioargs\u001b[39m.\u001b[39mmode:\n\u001b[0;32m    788\u001b[0m         \u001b[39m# Encoding\u001b[39;00m\n\u001b[1;32m--> 789\u001b[0m         handle \u001b[39m=\u001b[39m \u001b[39mopen\u001b[39;49m(\n\u001b[0;32m    790\u001b[0m             handle,\n\u001b[0;32m    791\u001b[0m             ioargs\u001b[39m.\u001b[39;49mmode,\n\u001b[0;32m    792\u001b[0m             encoding\u001b[39m=\u001b[39;49mioargs\u001b[39m.\u001b[39;49mencoding,\n\u001b[0;32m    793\u001b[0m             errors\u001b[39m=\u001b[39;49merrors,\n\u001b[0;32m    794\u001b[0m             newline\u001b[39m=\u001b[39;49m\u001b[39m\"\u001b[39;49m\u001b[39m\"\u001b[39;49m,\n\u001b[0;32m    795\u001b[0m         )\n\u001b[0;32m    796\u001b[0m     \u001b[39melse\u001b[39;00m:\n\u001b[0;32m    797\u001b[0m         \u001b[39m# Binary mode\u001b[39;00m\n\u001b[0;32m    798\u001b[0m         handle \u001b[39m=\u001b[39m \u001b[39mopen\u001b[39m(handle, ioargs\u001b[39m.\u001b[39mmode)\n",
      "\u001b[1;31mFileNotFoundError\u001b[0m: [Errno 2] No such file or directory: './iris.csv'"
     ]
    }
   ],
   "source": [
    "df_iris = pd.read_csv('./iris.csv')\n",
    "df_iris.head()"
   ]
  },
  {
   "cell_type": "code",
   "execution_count": 48,
   "id": "0e03c6ca",
   "metadata": {},
   "outputs": [
    {
     "ename": "NameError",
     "evalue": "name 'df_iris' is not defined",
     "output_type": "error",
     "traceback": [
      "\u001b[1;31m---------------------------------------------------------------------------\u001b[0m",
      "\u001b[1;31mNameError\u001b[0m                                 Traceback (most recent call last)",
      "\u001b[1;32mc:\\Valentin Lassaigne\\Optim\\Machine Learning\\17-01-KNN-exercices.ipynb Cellule 76\u001b[0m in \u001b[0;36m<cell line: 1>\u001b[1;34m()\u001b[0m\n\u001b[1;32m----> <a href='vscode-notebook-cell:/c%3A/Valentin%20Lassaigne/Optim/Machine%20Learning/17-01-KNN-exercices.ipynb#Y135sZmlsZQ%3D%3D?line=0'>1</a>\u001b[0m X \u001b[39m=\u001b[39m df_iris\u001b[39m.\u001b[39miloc[:, :\u001b[39m-\u001b[39m\u001b[39m1\u001b[39m]\n\u001b[0;32m      <a href='vscode-notebook-cell:/c%3A/Valentin%20Lassaigne/Optim/Machine%20Learning/17-01-KNN-exercices.ipynb#Y135sZmlsZQ%3D%3D?line=1'>2</a>\u001b[0m y \u001b[39m=\u001b[39m df_iris[\u001b[39m'\u001b[39m\u001b[39mSpecies\u001b[39m\u001b[39m'\u001b[39m]\n",
      "\u001b[1;31mNameError\u001b[0m: name 'df_iris' is not defined"
     ]
    }
   ],
   "source": [
    "X = df_iris.iloc[:, :-1]\n",
    "y = df_iris['Species']"
   ]
  },
  {
   "cell_type": "markdown",
   "id": "e3edff4b",
   "metadata": {},
   "source": [
    "### à-la-main"
   ]
  },
  {
   "cell_type": "markdown",
   "id": "ecbf973e",
   "metadata": {},
   "source": [
    "peut être faux  \n",
    "préférez les fonctions `sklearn`"
   ]
  },
  {
   "cell_type": "code",
   "execution_count": 42,
   "id": "6947d627",
   "metadata": {},
   "outputs": [],
   "source": [
    "t = 0.20\n",
    "nb = len(X) - int(len(X)*t)\n",
    "X_train, X_test = X[:nb], X[nb:]\n",
    "y_train, y_test = y[:nb], y[nb:]"
   ]
  },
  {
   "cell_type": "code",
   "execution_count": 43,
   "id": "2188916e",
   "metadata": {},
   "outputs": [
    {
     "data": {
      "text/plain": [
       "((80, 1), (20, 1), (80,), (20,))"
      ]
     },
     "execution_count": 43,
     "metadata": {},
     "output_type": "execute_result"
    }
   ],
   "source": [
    "X_train.shape, X_test.shape, y_train.shape, y_test.shape"
   ]
  },
  {
   "cell_type": "markdown",
   "id": "cabf4192",
   "metadata": {},
   "source": [
    "Que pensez-vous de ce split ?"
   ]
  },
  {
   "cell_type": "code",
   "execution_count": 44,
   "id": "686de17c",
   "metadata": {},
   "outputs": [
    {
     "ename": "AttributeError",
     "evalue": "'numpy.ndarray' object has no attribute 'value_counts'",
     "output_type": "error",
     "traceback": [
      "\u001b[1;31m---------------------------------------------------------------------------\u001b[0m",
      "\u001b[1;31mAttributeError\u001b[0m                            Traceback (most recent call last)",
      "\u001b[1;32mc:\\Valentin Lassaigne\\Optim\\Machine Learning\\17-01-KNN-exercices.ipynb Cellule 82\u001b[0m in \u001b[0;36m<cell line: 1>\u001b[1;34m()\u001b[0m\n\u001b[1;32m----> <a href='vscode-notebook-cell:/c%3A/Valentin%20Lassaigne/Optim/Machine%20Learning/17-01-KNN-exercices.ipynb#Y144sZmlsZQ%3D%3D?line=0'>1</a>\u001b[0m y_train\u001b[39m.\u001b[39;49mvalue_counts()\n",
      "\u001b[1;31mAttributeError\u001b[0m: 'numpy.ndarray' object has no attribute 'value_counts'"
     ]
    }
   ],
   "source": [
    "y_train.value_counts()"
   ]
  },
  {
   "cell_type": "code",
   "execution_count": 45,
   "id": "b74bf8f4",
   "metadata": {},
   "outputs": [
    {
     "ename": "AttributeError",
     "evalue": "'numpy.ndarray' object has no attribute 'value_counts'",
     "output_type": "error",
     "traceback": [
      "\u001b[1;31m---------------------------------------------------------------------------\u001b[0m",
      "\u001b[1;31mAttributeError\u001b[0m                            Traceback (most recent call last)",
      "\u001b[1;32mc:\\Valentin Lassaigne\\Optim\\Machine Learning\\17-01-KNN-exercices.ipynb Cellule 83\u001b[0m in \u001b[0;36m<cell line: 1>\u001b[1;34m()\u001b[0m\n\u001b[1;32m----> <a href='vscode-notebook-cell:/c%3A/Valentin%20Lassaigne/Optim/Machine%20Learning/17-01-KNN-exercices.ipynb#Y145sZmlsZQ%3D%3D?line=0'>1</a>\u001b[0m y_test\u001b[39m.\u001b[39;49mvalue_counts()\n",
      "\u001b[1;31mAttributeError\u001b[0m: 'numpy.ndarray' object has no attribute 'value_counts'"
     ]
    }
   ],
   "source": [
    "y_test.value_counts()"
   ]
  },
  {
   "cell_type": "markdown",
   "id": "6054fb4f",
   "metadata": {},
   "source": [
    "les données du `csv` sont ordonnées"
   ]
  },
  {
   "cell_type": "markdown",
   "id": "73ba2fe8",
   "metadata": {},
   "source": [
    "### avec `train_test_split`"
   ]
  },
  {
   "cell_type": "markdown",
   "id": "627a6d07",
   "metadata": {},
   "source": [
    "la méthode `train_test_split` prend des paramètres:  \n",
    "`test_size` et `train_size`  \n",
    "`random_state` (reproduction de shuffling)  \n",
    "`shuffle`"
   ]
  },
  {
   "cell_type": "code",
   "execution_count": null,
   "id": "3f764f0a",
   "metadata": {},
   "outputs": [],
   "source": [
    "X_train, X_test, y_train, y_test = \\\n",
    "   train_test_split(X, y, test_size=0.2, random_state=4)"
   ]
  },
  {
   "cell_type": "code",
   "execution_count": null,
   "id": "ea73fbac",
   "metadata": {},
   "outputs": [],
   "source": [
    "train_test_split?"
   ]
  },
  {
   "cell_type": "markdown",
   "id": "66b221dd",
   "metadata": {},
   "source": [
    "## grid-search"
   ]
  },
  {
   "cell_type": "markdown",
   "id": "55b46e52",
   "metadata": {},
   "source": [
    "nous voulons déterminer les meilleurs paramètres  \n",
    "par exemple, dans le knn, on voudrait tester différentes cominaisons de  \n",
    "`k`, de distance, de pondérations, d'algorithme..."
   ]
  },
  {
   "cell_type": "markdown",
   "id": "15f730d5",
   "metadata": {},
   "source": [
    "### à-la-main pour `k`"
   ]
  },
  {
   "cell_type": "code",
   "execution_count": null,
   "id": "e63f7635",
   "metadata": {},
   "outputs": [],
   "source": [
    "errors = []\n",
    "for k in range(1, 100):\n",
    "    knn_model = KNeighborsRegressor(k)\n",
    "    knn_model.fit(df_sinus[['X']], df_sinus['y'])\n",
    "    y_fit = knn_model.predict(df_sinus[['X']])\n",
    "    errors.append(metrics.mean_squared_error(y_fit,\n",
    "                                             df_sinus['y'], squared=True))"
   ]
  },
  {
   "cell_type": "markdown",
   "id": "f3774cf8",
   "metadata": {},
   "source": [
    "on a gardé les erreurs, on peut les plotter"
   ]
  },
  {
   "cell_type": "code",
   "execution_count": null,
   "id": "95be7ad2",
   "metadata": {},
   "outputs": [],
   "source": [
    "plt.plot(errors)\n",
    "plt.xlabel('k')\n",
    "plt.ylabel('MSE')\n",
    "plt.title('K Neighbors Regressor');"
   ]
  },
  {
   "cell_type": "markdown",
   "id": "7f103721",
   "metadata": {},
   "source": [
    "comme il va falloir conserver les combinaisons et leur qualité  \n",
    "autant utiliser des méthodes pré-définies comme le `GridSearchCV`"
   ]
  },
  {
   "cell_type": "markdown",
   "id": "a71aaafd",
   "metadata": {},
   "source": [
    "### avec `GridSearchCV`"
   ]
  },
  {
   "cell_type": "code",
   "execution_count": null,
   "id": "507a7029",
   "metadata": {},
   "outputs": [],
   "source": [
    "from sklearn.model_selection import GridSearchCV"
   ]
  },
  {
   "cell_type": "markdown",
   "id": "b1d13141",
   "metadata": {},
   "source": [
    "pour déterminer empiriquement des méta-parameters, on utilise le grid-search  \n",
    "c'est une manière automatique de lancer l'apprentissage sur des combinaisons de valeurs des paramètres   \n",
    "afin de déterminer la meilleure combinaison"
   ]
  },
  {
   "cell_type": "markdown",
   "id": "d98c163b",
   "metadata": {},
   "source": [
    "on donne un dictionnaire\n",
    "- avec comme clé les paramètres dont on veut tester les valeurs\n",
    "- comme valeurs les valeurs choisiesà et les valeurs à utilise"
   ]
  },
  {
   "cell_type": "markdown",
   "id": "960af59e",
   "metadata": {},
   "source": [
    "créons un classifier  \n",
    "affichons ses paramètres et leurs valeurs dans ce classifier"
   ]
  },
  {
   "cell_type": "code",
   "execution_count": null,
   "id": "51db2f05",
   "metadata": {},
   "outputs": [],
   "source": [
    "knn = KNeighborsClassifier()\n",
    "knn.get_params()"
   ]
  },
  {
   "cell_type": "code",
   "execution_count": null,
   "id": "840da198",
   "metadata": {},
   "outputs": [],
   "source": [
    "parameters = {'n_neighbors': [5, 10],\n",
    "              'weights': ['uniform', 'distance'],\n",
    "              'algorithm': ['kd_tree',  'brute'],\n",
    "              'p': [1, 2],\n",
    "             }"
   ]
  },
  {
   "cell_type": "markdown",
   "id": "da3e0efd",
   "metadata": {},
   "source": [
    "on définit un objet de grid-search avec\n",
    "- le classifier à entraîner\n",
    "- le dictionnaire des paramètres à essayer\n",
    "\n",
    "\n",
    "et des paramètres comme  \n",
    "`scoring` qui indique la stratégie d'évaluation de la performance du modèle  \n",
    "(par défaut celle du classifier par exemple pour `KNeighborsClassifier.score`  \n",
    "c'est la *mean accuracy*  *nb correct predictions divided by total number of predictions*)\n",
    "\n",
    "`cv` par exemple un `5`  \n",
    "le jeu de données va être divisé en 5 ensembles   \n",
    "1 servira au test et les 4 autres à l'apprentissage  \n",
    "(il le fera donc 5 fois)\n",
    "\n",
    "\n",
    "pour utiliser `GridSearchCV`\n",
    "- la méthode `fit` lance tous les apprentissage\n",
    "- à la fin des apprentissages,  \n",
    "l'attribut `best_params_` contient le dictionnaire de la combinaison de paramètres choisie  \n",
    "l'attribut `cv_results_` indique des tas d'informations (à présenter en dataframe) \n",
    "\n",
    "\n"
   ]
  },
  {
   "cell_type": "code",
   "execution_count": null,
   "id": "f64bd231",
   "metadata": {},
   "outputs": [],
   "source": [
    "knn = KNeighborsClassifier()\n",
    "clf = GridSearchCV(knn, parameters,\n",
    "                   cv=5,\n",
    "                   verbose=3,\n",
    "                   return_train_score=True)\n",
    "clf.fit(X,y);"
   ]
  },
  {
   "cell_type": "code",
   "execution_count": null,
   "id": "fc5b2bbd",
   "metadata": {},
   "outputs": [],
   "source": [
    "clf.best_params_"
   ]
  },
  {
   "cell_type": "code",
   "execution_count": null,
   "id": "d1b49eb7",
   "metadata": {},
   "outputs": [],
   "source": [
    "pd.DataFrame(clf.cv_results_).head()"
   ]
  },
  {
   "cell_type": "code",
   "execution_count": null,
   "id": "ebddffd4",
   "metadata": {},
   "outputs": [],
   "source": [
    "df_results = pd.DataFrame(clf.cv_results_)\n",
    "df_results.head(2)"
   ]
  },
  {
   "cell_type": "code",
   "execution_count": null,
   "id": "a2a1fde5",
   "metadata": {},
   "outputs": [],
   "source": [
    "df_results.describe()"
   ]
  },
  {
   "cell_type": "code",
   "execution_count": null,
   "id": "9dc2ada0",
   "metadata": {},
   "outputs": [],
   "source": [
    "df_results[[c for c in df_results.columns if 'score' in c if 'split' in c if 'test' in c]].plot(figsize=(20, 10))"
   ]
  },
  {
   "cell_type": "code",
   "execution_count": null,
   "id": "5bbe4d02",
   "metadata": {},
   "outputs": [],
   "source": [
    "df_results[[c for c in df_results.columns if 'score' in c if 'split' in c]].plot(figsize=(20, 10))"
   ]
  },
  {
   "cell_type": "code",
   "execution_count": null,
   "id": "686ce888",
   "metadata": {},
   "outputs": [],
   "source": [
    "clf.score(X, y)"
   ]
  },
  {
   "cell_type": "markdown",
   "id": "0cdcca9e",
   "metadata": {},
   "source": [
    "## pipeline"
   ]
  },
  {
   "cell_type": "markdown",
   "id": "e5a5b473",
   "metadata": {},
   "source": [
    "quand les codes commencent à se complexifier    \n",
    "utiliser `Pipeline`"
   ]
  },
  {
   "cell_type": "code",
   "execution_count": null,
   "id": "748a3b07",
   "metadata": {},
   "outputs": [],
   "source": [
    "from sklearn.pipeline import Pipeline"
   ]
  },
  {
   "cell_type": "markdown",
   "id": "9f21fc50",
   "metadata": {},
   "source": [
    "nous voulons faire:\n",
    "une normalisation puis entraîner un prédicteur  \n",
    "et ceci dans un grid-search"
   ]
  },
  {
   "cell_type": "code",
   "execution_count": null,
   "id": "214ed66e",
   "metadata": {},
   "outputs": [],
   "source": [
    "pipe = Pipeline([\n",
    "        ('sc', StandardScaler()),     \n",
    "        ('knn', KNeighborsClassifier()) \n",
    "    ])\n",
    "\n",
    "# les noms des paramètres sont\n",
    "#   préfixés par le nom de l'objet auquel ils se rapportent puis __\n",
    "#   e.g.  knn__p\n",
    "params = {\n",
    "    'sc__with_mean' : [True, False],\n",
    "    'knn__n_neighbors': [3, 5, 7, 9, 11],\n",
    "    'knn__p' : [1, 2],\n",
    "    'knn__algorithm': ['kd_tree',  'brute'],\n",
    "    \n",
    "}  # 2 * 5 * 2 * 2 combinaisons\n",
    "\n",
    "clf_pipe = GridSearchCV(estimator=pipe,           \n",
    "                   param_grid=params, \n",
    "                   cv=5,\n",
    "                   return_train_score=True, # Turn on cv train scores\n",
    "                   verbose=1)\n",
    "clf_pipe.fit(X, y)\n",
    "clf_pipe.best_params_"
   ]
  },
  {
   "cell_type": "code",
   "execution_count": null,
   "id": "82c8e214",
   "metadata": {},
   "outputs": [],
   "source": [
    "clf_pipe.score(X, y)"
   ]
  },
  {
   "cell_type": "markdown",
   "id": "4c17fa05",
   "metadata": {},
   "source": [
    "erreur sur les classes"
   ]
  },
  {
   "cell_type": "code",
   "execution_count": null,
   "id": "21dc4a5a",
   "metadata": {},
   "outputs": [],
   "source": [
    "y_pred = clf_pipe.predict(X)"
   ]
  },
  {
   "cell_type": "code",
   "execution_count": null,
   "id": "cffda6e3",
   "metadata": {},
   "outputs": [],
   "source": [
    "np.mean(y_pred == y)"
   ]
  },
  {
   "cell_type": "code",
   "execution_count": null,
   "id": "e9c7eb51",
   "metadata": {},
   "outputs": [],
   "source": [
    "1 - np.mean(y_pred != y)"
   ]
  },
  {
   "cell_type": "markdown",
   "id": "01870974",
   "metadata": {},
   "source": [
    "## boxplot et histograms"
   ]
  },
  {
   "cell_type": "code",
   "execution_count": null,
   "id": "b76eea2e",
   "metadata": {},
   "outputs": [],
   "source": [
    "df_results = pd.DataFrame(clf_pipe.cv_results_)\n",
    "df_results.head(2)"
   ]
  },
  {
   "cell_type": "code",
   "execution_count": null,
   "id": "a1ace4a6",
   "metadata": {},
   "outputs": [],
   "source": [
    "df_results.describe()"
   ]
  },
  {
   "cell_type": "code",
   "execution_count": null,
   "id": "c43dd048",
   "metadata": {},
   "outputs": [],
   "source": [
    "df_results[[c for c in df_results.columns if 'score' in c if 'split' in c if 'test' in c]].plot(figsize=(20, 10))"
   ]
  },
  {
   "cell_type": "code",
   "execution_count": null,
   "id": "503f5410",
   "metadata": {},
   "outputs": [],
   "source": [
    "df_results[[c for c in df_results.columns if 'score' in c if 'split' in c]].plot(figsize=(20, 10))"
   ]
  },
  {
   "cell_type": "code",
   "execution_count": 1,
   "id": "8acdde36",
   "metadata": {},
   "outputs": [
    {
     "ename": "NameError",
     "evalue": "name 'pd' is not defined",
     "output_type": "error",
     "traceback": [
      "\u001b[1;31m---------------------------------------------------------------------------\u001b[0m",
      "\u001b[1;31mNameError\u001b[0m                                 Traceback (most recent call last)",
      "\u001b[1;32mc:\\Valentin Lassaigne\\Optim\\Machine Learning\\17-01-KNN-exercices.ipynb Cellule 127\u001b[0m in \u001b[0;36m<cell line: 1>\u001b[1;34m()\u001b[0m\n\u001b[1;32m----> <a href='vscode-notebook-cell:/c%3A/Valentin%20Lassaigne/Optim/Machine%20Learning/17-01-KNN-exercices.ipynb#Y240sZmlsZQ%3D%3D?line=0'>1</a>\u001b[0m df_iris \u001b[39m=\u001b[39m pd\u001b[39m.\u001b[39mread_csv(\u001b[39m'\u001b[39m\u001b[39m./iris.csv\u001b[39m\u001b[39m'\u001b[39m)\n\u001b[0;32m      <a href='vscode-notebook-cell:/c%3A/Valentin%20Lassaigne/Optim/Machine%20Learning/17-01-KNN-exercices.ipynb#Y240sZmlsZQ%3D%3D?line=1'>2</a>\u001b[0m df_iris\u001b[39m.\u001b[39mhead()\n\u001b[0;32m      <a href='vscode-notebook-cell:/c%3A/Valentin%20Lassaigne/Optim/Machine%20Learning/17-01-KNN-exercices.ipynb#Y240sZmlsZQ%3D%3D?line=3'>4</a>\u001b[0m \u001b[39m# on prend les valeurs numériques\u001b[39;00m\n",
      "\u001b[1;31mNameError\u001b[0m: name 'pd' is not defined"
     ]
    }
   ],
   "source": [
    "df_iris = pd.read_csv('./iris.csv')\n",
    "df_iris.head()\n",
    "\n",
    "# on prend les valeurs numériques\n",
    "X = df_iris[df_iris.columns[0:-1]]"
   ]
  },
  {
   "cell_type": "code",
   "execution_count": null,
   "id": "cefef0de",
   "metadata": {},
   "outputs": [],
   "source": [
    "plt.rcParams['figure.figsize']=(10,5)\n",
    "X.plot(kind='box', subplots=True, layout=(2, 2), sharex=False, sharey=False)\n",
    "plt.tight_layout()"
   ]
  },
  {
   "cell_type": "code",
   "execution_count": null,
   "id": "e332208f",
   "metadata": {},
   "outputs": [],
   "source": [
    "plt.rcParams['figure.figsize']=(10,5)\n",
    "X.plot(kind='hist', bins=10, subplots=True, layout=(2, 2), sharex=False, sharey=False)\n",
    "plt.tight_layout()"
   ]
  },
  {
   "cell_type": "markdown",
   "id": "28a3d625",
   "metadata": {},
   "source": [
    "## heatmap"
   ]
  },
  {
   "cell_type": "code",
   "execution_count": null,
   "id": "274c9e0f",
   "metadata": {},
   "outputs": [],
   "source": [
    "df_results.plot()"
   ]
  },
  {
   "cell_type": "code",
   "execution_count": null,
   "id": "114fbb9d",
   "metadata": {},
   "outputs": [],
   "source": [
    "import seaborn as sns"
   ]
  },
  {
   "cell_type": "code",
   "execution_count": null,
   "id": "81eac448",
   "metadata": {},
   "outputs": [],
   "source": [
    "plt.figure(figsize=(8, 6))\n",
    "plt.title('Corrélations des attributs des observations')\n",
    "correlation = X.corr()\n",
    "a = sns.heatmap(correlation, annot=True, fmt='.2f')\n",
    "a.set_xticklabels(a.get_xticklabels(), rotation=90)\n",
    "a.set_yticklabels(a.get_yticklabels(), rotation=30);  "
   ]
  },
  {
   "cell_type": "markdown",
   "id": "d2a3c83c",
   "metadata": {},
   "source": [
    "END"
   ]
  }
 ],
 "metadata": {
  "kernelspec": {
   "display_name": "Python 3.9.12 ('base')",
   "language": "python",
   "name": "python3"
  },
  "language_info": {
   "codemirror_mode": {
    "name": "ipython",
    "version": 3
   },
   "file_extension": ".py",
   "mimetype": "text/x-python",
   "name": "python",
   "nbconvert_exporter": "python",
   "pygments_lexer": "ipython3",
   "version": "3.9.12 (main, Apr  4 2022, 05:22:27) [MSC v.1916 64 bit (AMD64)]"
  },
  "vscode": {
   "interpreter": {
    "hash": "ad2bdc8ecc057115af97d19610ffacc2b4e99fae6737bb82f5d7fb13d2f2c186"
   }
  }
 },
 "nbformat": 4,
 "nbformat_minor": 5
}
