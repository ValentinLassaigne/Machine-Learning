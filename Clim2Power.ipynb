{
 "cells": [
  {
   "cell_type": "code",
   "execution_count": 13,
   "metadata": {},
   "outputs": [],
   "source": [
    "import numpy as np\n",
    "import pandas as pd\n",
    "import matplotlib as mpl\n",
    "import matplotlib.pyplot as plt"
   ]
  },
  {
   "cell_type": "code",
   "execution_count": 37,
   "metadata": {},
   "outputs": [
    {
     "data": {
      "text/html": [
       "<div>\n",
       "<style scoped>\n",
       "    .dataframe tbody tr th:only-of-type {\n",
       "        vertical-align: middle;\n",
       "    }\n",
       "\n",
       "    .dataframe tbody tr th {\n",
       "        vertical-align: top;\n",
       "    }\n",
       "\n",
       "    .dataframe thead th {\n",
       "        text-align: right;\n",
       "    }\n",
       "</style>\n",
       "<table border=\"1\" class=\"dataframe\">\n",
       "  <thead>\n",
       "    <tr style=\"text-align: right;\">\n",
       "      <th></th>\n",
       "      <th>DateTime</th>\n",
       "      <th>CZ</th>\n",
       "    </tr>\n",
       "    <tr>\n",
       "      <th>DateTime</th>\n",
       "      <th></th>\n",
       "      <th></th>\n",
       "    </tr>\n",
       "  </thead>\n",
       "  <tbody>\n",
       "    <tr>\n",
       "      <th>01/01/2015 00:00:00.000</th>\n",
       "      <td>01/01/2015 00:00:00.000</td>\n",
       "      <td>6063.72</td>\n",
       "    </tr>\n",
       "    <tr>\n",
       "      <th>01/01/2015 00:59:59.999</th>\n",
       "      <td>01/01/2015 00:59:59.999</td>\n",
       "      <td>5957.57</td>\n",
       "    </tr>\n",
       "    <tr>\n",
       "      <th>01/01/2015 02:00:00.000</th>\n",
       "      <td>01/01/2015 02:00:00.000</td>\n",
       "      <td>5878.87</td>\n",
       "    </tr>\n",
       "    <tr>\n",
       "      <th>01/01/2015 03:00:00.000</th>\n",
       "      <td>01/01/2015 03:00:00.000</td>\n",
       "      <td>5827.80</td>\n",
       "    </tr>\n",
       "    <tr>\n",
       "      <th>01/01/2015 03:59:59.999</th>\n",
       "      <td>01/01/2015 03:59:59.999</td>\n",
       "      <td>5730.89</td>\n",
       "    </tr>\n",
       "  </tbody>\n",
       "</table>\n",
       "</div>"
      ],
      "text/plain": [
       "                                        DateTime       CZ\n",
       "DateTime                                                 \n",
       "01/01/2015 00:00:00.000  01/01/2015 00:00:00.000  6063.72\n",
       "01/01/2015 00:59:59.999  01/01/2015 00:59:59.999  5957.57\n",
       "01/01/2015 02:00:00.000  01/01/2015 02:00:00.000  5878.87\n",
       "01/01/2015 03:00:00.000  01/01/2015 03:00:00.000  5827.80\n",
       "01/01/2015 03:59:59.999  01/01/2015 03:59:59.999  5730.89"
      ]
     },
     "execution_count": 37,
     "metadata": {},
     "output_type": "execute_result"
    }
   ],
   "source": [
    "df_load = pd.read_csv('Load.csv',delimiter=';')\n",
    "df_load.index=df_load['DateTime']\n",
    "df_load.head()"
   ]
  },
  {
   "cell_type": "code",
   "execution_count": 39,
   "metadata": {},
   "outputs": [
    {
     "data": {
      "text/plain": [
       "[<matplotlib.lines.Line2D at 0x19190cd20d0>]"
      ]
     },
     "execution_count": 39,
     "metadata": {},
     "output_type": "execute_result"
    }
   ],
   "source": [
    "plt.plot(df_load['CZ'])"
   ]
  },
  {
   "cell_type": "code",
   "execution_count": 40,
   "metadata": {},
   "outputs": [
    {
     "data": {
      "text/html": [
       "<div>\n",
       "<style scoped>\n",
       "    .dataframe tbody tr th:only-of-type {\n",
       "        vertical-align: middle;\n",
       "    }\n",
       "\n",
       "    .dataframe tbody tr th {\n",
       "        vertical-align: top;\n",
       "    }\n",
       "\n",
       "    .dataframe thead th {\n",
       "        text-align: right;\n",
       "    }\n",
       "</style>\n",
       "<table border=\"1\" class=\"dataframe\">\n",
       "  <thead>\n",
       "    <tr style=\"text-align: right;\">\n",
       "      <th></th>\n",
       "      <th>Year</th>\n",
       "      <th>Month</th>\n",
       "      <th>Day</th>\n",
       "      <th>Date</th>\n",
       "      <th>CZ</th>\n",
       "    </tr>\n",
       "  </thead>\n",
       "  <tbody>\n",
       "    <tr>\n",
       "      <th>2015-01-01</th>\n",
       "      <td>2015</td>\n",
       "      <td>1</td>\n",
       "      <td>1</td>\n",
       "      <td>1/1/2015</td>\n",
       "      <td>0.198581</td>\n",
       "    </tr>\n",
       "    <tr>\n",
       "      <th>2015-01-02</th>\n",
       "      <td>2015</td>\n",
       "      <td>1</td>\n",
       "      <td>2</td>\n",
       "      <td>2/1/2015</td>\n",
       "      <td>0.205989</td>\n",
       "    </tr>\n",
       "    <tr>\n",
       "      <th>2015-01-03</th>\n",
       "      <td>2015</td>\n",
       "      <td>1</td>\n",
       "      <td>3</td>\n",
       "      <td>3/1/2015</td>\n",
       "      <td>0.107573</td>\n",
       "    </tr>\n",
       "    <tr>\n",
       "      <th>2015-01-04</th>\n",
       "      <td>2015</td>\n",
       "      <td>1</td>\n",
       "      <td>4</td>\n",
       "      <td>4/1/2015</td>\n",
       "      <td>0.227570</td>\n",
       "    </tr>\n",
       "    <tr>\n",
       "      <th>2015-01-05</th>\n",
       "      <td>2015</td>\n",
       "      <td>1</td>\n",
       "      <td>5</td>\n",
       "      <td>5/1/2015</td>\n",
       "      <td>0.212086</td>\n",
       "    </tr>\n",
       "  </tbody>\n",
       "</table>\n",
       "</div>"
      ],
      "text/plain": [
       "            Year  Month  Day      Date        CZ\n",
       "2015-01-01  2015      1    1  1/1/2015  0.198581\n",
       "2015-01-02  2015      1    2  2/1/2015  0.205989\n",
       "2015-01-03  2015      1    3  3/1/2015  0.107573\n",
       "2015-01-04  2015      1    4  4/1/2015  0.227570\n",
       "2015-01-05  2015      1    5  5/1/2015  0.212086"
      ]
     },
     "execution_count": 40,
     "metadata": {},
     "output_type": "execute_result"
    }
   ],
   "source": [
    "df_HRO = pd.read_csv('HRO_tab.csv',delimiter=';')\n",
    "df_HRO.index=pd.to_datetime(df_HRO[['Year','Month','Day']])\n",
    "df_HRO.head()"
   ]
  },
  {
   "cell_type": "code",
   "execution_count": 41,
   "metadata": {},
   "outputs": [
    {
     "data": {
      "text/plain": [
       "[<matplotlib.lines.Line2D at 0x191cc6564f0>]"
      ]
     },
     "execution_count": 41,
     "metadata": {},
     "output_type": "execute_result"
    },
    {
     "data": {
      "image/png": "[encoded data removed]",
      "text/plain": [
       "<Figure size 432x288 with 1 Axes>"
      ]
     },
     "metadata": {
      "needs_background": "light"
     },
     "output_type": "display_data"
    }
   ],
   "source": [
    "plt.plot(df_HRO['CZ'])"
   ]
  },
  {
   "cell_type": "code",
   "execution_count": 42,
   "metadata": {},
   "outputs": [
    {
     "data": {
      "text/html": [
       "<div>\n",
       "<style scoped>\n",
       "    .dataframe tbody tr th:only-of-type {\n",
       "        vertical-align: middle;\n",
       "    }\n",
       "\n",
       "    .dataframe tbody tr th {\n",
       "        vertical-align: top;\n",
       "    }\n",
       "\n",
       "    .dataframe thead th {\n",
       "        text-align: right;\n",
       "    }\n",
       "</style>\n",
       "<table border=\"1\" class=\"dataframe\">\n",
       "  <thead>\n",
       "    <tr style=\"text-align: right;\">\n",
       "      <th></th>\n",
       "      <th>Year</th>\n",
       "      <th>Month</th>\n",
       "      <th>Day</th>\n",
       "      <th>AT</th>\n",
       "      <th>BG</th>\n",
       "      <th>CH</th>\n",
       "      <th>CZ</th>\n",
       "      <th>DE</th>\n",
       "      <th>ES</th>\n",
       "      <th>FR</th>\n",
       "      <th>HU</th>\n",
       "      <th>IT</th>\n",
       "      <th>ME</th>\n",
       "      <th>NO</th>\n",
       "      <th>PL</th>\n",
       "      <th>PT</th>\n",
       "      <th>RO</th>\n",
       "      <th>RS</th>\n",
       "      <th>SE</th>\n",
       "      <th>SK</th>\n",
       "    </tr>\n",
       "  </thead>\n",
       "  <tbody>\n",
       "    <tr>\n",
       "      <th>2015-01-01</th>\n",
       "      <td>2015</td>\n",
       "      <td>1</td>\n",
       "      <td>1</td>\n",
       "      <td>0.080155</td>\n",
       "      <td>0.429598</td>\n",
       "      <td>0.0</td>\n",
       "      <td>0.208892</td>\n",
       "      <td>0.022738</td>\n",
       "      <td>0.120310</td>\n",
       "      <td>0.273674</td>\n",
       "      <td>0.555744</td>\n",
       "      <td>0.0</td>\n",
       "      <td>0.000000</td>\n",
       "      <td>0.398723</td>\n",
       "      <td>0.000000</td>\n",
       "      <td>0.406903</td>\n",
       "      <td>0.000000</td>\n",
       "      <td>0.0</td>\n",
       "      <td>0.170000</td>\n",
       "      <td>0.036250</td>\n",
       "    </tr>\n",
       "    <tr>\n",
       "      <th>2015-01-02</th>\n",
       "      <td>2015</td>\n",
       "      <td>1</td>\n",
       "      <td>2</td>\n",
       "      <td>0.068257</td>\n",
       "      <td>0.468497</td>\n",
       "      <td>0.0</td>\n",
       "      <td>0.215407</td>\n",
       "      <td>0.023832</td>\n",
       "      <td>0.215474</td>\n",
       "      <td>0.403361</td>\n",
       "      <td>0.482812</td>\n",
       "      <td>0.0</td>\n",
       "      <td>0.000000</td>\n",
       "      <td>0.448051</td>\n",
       "      <td>0.034375</td>\n",
       "      <td>0.479141</td>\n",
       "      <td>0.000000</td>\n",
       "      <td>0.0</td>\n",
       "      <td>0.486038</td>\n",
       "      <td>0.043044</td>\n",
       "    </tr>\n",
       "    <tr>\n",
       "      <th>2015-01-03</th>\n",
       "      <td>2015</td>\n",
       "      <td>1</td>\n",
       "      <td>3</td>\n",
       "      <td>0.118153</td>\n",
       "      <td>0.493215</td>\n",
       "      <td>0.0</td>\n",
       "      <td>0.227787</td>\n",
       "      <td>0.026986</td>\n",
       "      <td>0.140334</td>\n",
       "      <td>0.181920</td>\n",
       "      <td>0.399762</td>\n",
       "      <td>0.0</td>\n",
       "      <td>0.000000</td>\n",
       "      <td>0.504128</td>\n",
       "      <td>0.034356</td>\n",
       "      <td>0.374826</td>\n",
       "      <td>0.000000</td>\n",
       "      <td>0.0</td>\n",
       "      <td>0.439286</td>\n",
       "      <td>0.033356</td>\n",
       "    </tr>\n",
       "    <tr>\n",
       "      <th>2015-01-04</th>\n",
       "      <td>2015</td>\n",
       "      <td>1</td>\n",
       "      <td>4</td>\n",
       "      <td>0.057409</td>\n",
       "      <td>0.405944</td>\n",
       "      <td>0.0</td>\n",
       "      <td>0.148018</td>\n",
       "      <td>0.023275</td>\n",
       "      <td>0.124262</td>\n",
       "      <td>0.152676</td>\n",
       "      <td>0.382961</td>\n",
       "      <td>0.0</td>\n",
       "      <td>0.000000</td>\n",
       "      <td>0.558817</td>\n",
       "      <td>0.034476</td>\n",
       "      <td>0.322731</td>\n",
       "      <td>0.000000</td>\n",
       "      <td>0.0</td>\n",
       "      <td>0.314541</td>\n",
       "      <td>0.025843</td>\n",
       "    </tr>\n",
       "    <tr>\n",
       "      <th>2015-01-05</th>\n",
       "      <td>2015</td>\n",
       "      <td>1</td>\n",
       "      <td>5</td>\n",
       "      <td>0.154394</td>\n",
       "      <td>0.455034</td>\n",
       "      <td>0.0</td>\n",
       "      <td>0.258488</td>\n",
       "      <td>0.014962</td>\n",
       "      <td>0.184026</td>\n",
       "      <td>0.344305</td>\n",
       "      <td>0.482950</td>\n",
       "      <td>0.0</td>\n",
       "      <td>0.398258</td>\n",
       "      <td>0.762607</td>\n",
       "      <td>0.057479</td>\n",
       "      <td>0.428418</td>\n",
       "      <td>0.016507</td>\n",
       "      <td>0.0</td>\n",
       "      <td>0.580069</td>\n",
       "      <td>0.051842</td>\n",
       "    </tr>\n",
       "  </tbody>\n",
       "</table>\n",
       "</div>"
      ],
      "text/plain": [
       "            Year  Month  Day        AT        BG   CH        CZ        DE  \\\n",
       "2015-01-01  2015      1    1  0.080155  0.429598  0.0  0.208892  0.022738   \n",
       "2015-01-02  2015      1    2  0.068257  0.468497  0.0  0.215407  0.023832   \n",
       "2015-01-03  2015      1    3  0.118153  0.493215  0.0  0.227787  0.026986   \n",
       "2015-01-04  2015      1    4  0.057409  0.405944  0.0  0.148018  0.023275   \n",
       "2015-01-05  2015      1    5  0.154394  0.455034  0.0  0.258488  0.014962   \n",
       "\n",
       "                  ES        FR        HU   IT        ME        NO        PL  \\\n",
       "2015-01-01  0.120310  0.273674  0.555744  0.0  0.000000  0.398723  0.000000   \n",
       "2015-01-02  0.215474  0.403361  0.482812  0.0  0.000000  0.448051  0.034375   \n",
       "2015-01-03  0.140334  0.181920  0.399762  0.0  0.000000  0.504128  0.034356   \n",
       "2015-01-04  0.124262  0.152676  0.382961  0.0  0.000000  0.558817  0.034476   \n",
       "2015-01-05  0.184026  0.344305  0.482950  0.0  0.398258  0.762607  0.057479   \n",
       "\n",
       "                  PT        RO   RS        SE        SK  \n",
       "2015-01-01  0.406903  0.000000  0.0  0.170000  0.036250  \n",
       "2015-01-02  0.479141  0.000000  0.0  0.486038  0.043044  \n",
       "2015-01-03  0.374826  0.000000  0.0  0.439286  0.033356  \n",
       "2015-01-04  0.322731  0.000000  0.0  0.314541  0.025843  \n",
       "2015-01-05  0.428418  0.016507  0.0  0.580069  0.051842  "
      ]
     },
     "execution_count": 42,
     "metadata": {},
     "output_type": "execute_result"
    }
   ],
   "source": [
    "df_HRE = pd.read_csv('HRE_tab.csv',delimiter=';')\n",
    "df_HRE.index=pd.to_datetime(df_HRE[['Year','Month','Day']])\n",
    "df_HRE.head()"
   ]
  },
  {
   "cell_type": "code",
   "execution_count": 43,
   "metadata": {},
   "outputs": [
    {
     "data": {
      "text/plain": [
       "[<matplotlib.lines.Line2D at 0x191cc619580>]"
      ]
     },
     "execution_count": 43,
     "metadata": {},
     "output_type": "execute_result"
    },
    {
     "data": {
      "image/png": "[encoded data removed]",
      "text/plain": [
       "<Figure size 432x288 with 1 Axes>"
      ]
     },
     "metadata": {
      "needs_background": "light"
     },
     "output_type": "display_data"
    }
   ],
   "source": [
    "plt.plot(df_HRE['CZ'])"
   ]
  },
  {
   "cell_type": "code",
   "execution_count": 71,
   "metadata": {},
   "outputs": [
    {
     "data": {
      "text/html": [
       "<div>\n",
       "<style scoped>\n",
       "    .dataframe tbody tr th:only-of-type {\n",
       "        vertical-align: middle;\n",
       "    }\n",
       "\n",
       "    .dataframe tbody tr th {\n",
       "        vertical-align: top;\n",
       "    }\n",
       "\n",
       "    .dataframe thead th {\n",
       "        text-align: right;\n",
       "    }\n",
       "</style>\n",
       "<table border=\"1\" class=\"dataframe\">\n",
       "  <thead>\n",
       "    <tr style=\"text-align: right;\">\n",
       "      <th></th>\n",
       "      <th>Year</th>\n",
       "      <th>Month</th>\n",
       "      <th>Day</th>\n",
       "      <th>CH02</th>\n",
       "      <th>CH03</th>\n",
       "      <th>AL02</th>\n",
       "      <th>AL03</th>\n",
       "      <th>BG33</th>\n",
       "      <th>DE13</th>\n",
       "      <th>CZ05</th>\n",
       "      <th>...</th>\n",
       "      <th>TR42</th>\n",
       "      <th>TR51</th>\n",
       "      <th>TR52</th>\n",
       "      <th>TR10</th>\n",
       "      <th>TR32</th>\n",
       "      <th>PT16</th>\n",
       "      <th>PT11</th>\n",
       "      <th>PT18</th>\n",
       "      <th>PT15</th>\n",
       "      <th>PT17</th>\n",
       "    </tr>\n",
       "  </thead>\n",
       "  <tbody>\n",
       "    <tr>\n",
       "      <th>2014-01-01</th>\n",
       "      <td>2014</td>\n",
       "      <td>1</td>\n",
       "      <td>1</td>\n",
       "      <td>-1.66</td>\n",
       "      <td>1.24</td>\n",
       "      <td>4.67</td>\n",
       "      <td>5.17</td>\n",
       "      <td>0.85</td>\n",
       "      <td>-0.09</td>\n",
       "      <td>-5.02</td>\n",
       "      <td>...</td>\n",
       "      <td>2.65</td>\n",
       "      <td>1.55</td>\n",
       "      <td>2.11</td>\n",
       "      <td>6.12</td>\n",
       "      <td>7.72</td>\n",
       "      <td>8.636825</td>\n",
       "      <td>8.731325</td>\n",
       "      <td>10.565</td>\n",
       "      <td>13.740625</td>\n",
       "      <td>13.158125</td>\n",
       "    </tr>\n",
       "    <tr>\n",
       "      <th>2014-01-02</th>\n",
       "      <td>2014</td>\n",
       "      <td>1</td>\n",
       "      <td>2</td>\n",
       "      <td>-0.51</td>\n",
       "      <td>2.41</td>\n",
       "      <td>4.24</td>\n",
       "      <td>4.03</td>\n",
       "      <td>0.33</td>\n",
       "      <td>1.08</td>\n",
       "      <td>-3.14</td>\n",
       "      <td>...</td>\n",
       "      <td>4.02</td>\n",
       "      <td>2.56</td>\n",
       "      <td>4.12</td>\n",
       "      <td>7.05</td>\n",
       "      <td>7.49</td>\n",
       "      <td>10.758254</td>\n",
       "      <td>10.227229</td>\n",
       "      <td>13.910</td>\n",
       "      <td>15.230625</td>\n",
       "      <td>14.342500</td>\n",
       "    </tr>\n",
       "    <tr>\n",
       "      <th>2014-01-03</th>\n",
       "      <td>2014</td>\n",
       "      <td>1</td>\n",
       "      <td>3</td>\n",
       "      <td>-0.74</td>\n",
       "      <td>1.89</td>\n",
       "      <td>4.76</td>\n",
       "      <td>5.05</td>\n",
       "      <td>-0.44</td>\n",
       "      <td>0.69</td>\n",
       "      <td>0.24</td>\n",
       "      <td>...</td>\n",
       "      <td>4.70</td>\n",
       "      <td>4.05</td>\n",
       "      <td>4.52</td>\n",
       "      <td>7.43</td>\n",
       "      <td>7.19</td>\n",
       "      <td>11.313810</td>\n",
       "      <td>11.066747</td>\n",
       "      <td>13.585</td>\n",
       "      <td>14.732500</td>\n",
       "      <td>13.901250</td>\n",
       "    </tr>\n",
       "    <tr>\n",
       "      <th>2014-01-04</th>\n",
       "      <td>2014</td>\n",
       "      <td>1</td>\n",
       "      <td>4</td>\n",
       "      <td>-0.33</td>\n",
       "      <td>2.73</td>\n",
       "      <td>4.34</td>\n",
       "      <td>4.79</td>\n",
       "      <td>-0.24</td>\n",
       "      <td>1.82</td>\n",
       "      <td>2.62</td>\n",
       "      <td>...</td>\n",
       "      <td>4.11</td>\n",
       "      <td>4.10</td>\n",
       "      <td>4.75</td>\n",
       "      <td>6.38</td>\n",
       "      <td>6.94</td>\n",
       "      <td>8.148730</td>\n",
       "      <td>7.594337</td>\n",
       "      <td>12.485</td>\n",
       "      <td>14.268750</td>\n",
       "      <td>13.226250</td>\n",
       "    </tr>\n",
       "    <tr>\n",
       "      <th>2014-01-05</th>\n",
       "      <td>2014</td>\n",
       "      <td>1</td>\n",
       "      <td>5</td>\n",
       "      <td>-1.35</td>\n",
       "      <td>2.03</td>\n",
       "      <td>7.63</td>\n",
       "      <td>7.99</td>\n",
       "      <td>1.27</td>\n",
       "      <td>1.01</td>\n",
       "      <td>2.09</td>\n",
       "      <td>...</td>\n",
       "      <td>3.14</td>\n",
       "      <td>2.56</td>\n",
       "      <td>3.86</td>\n",
       "      <td>6.08</td>\n",
       "      <td>6.06</td>\n",
       "      <td>9.025714</td>\n",
       "      <td>9.089036</td>\n",
       "      <td>10.570</td>\n",
       "      <td>12.385000</td>\n",
       "      <td>13.656875</td>\n",
       "    </tr>\n",
       "  </tbody>\n",
       "</table>\n",
       "<p>5 rows × 319 columns</p>\n",
       "</div>"
      ],
      "text/plain": [
       "            Year  Month  Day  CH02  CH03  AL02  AL03  BG33  DE13  CZ05  ...  \\\n",
       "2014-01-01  2014      1    1 -1.66  1.24  4.67  5.17  0.85 -0.09 -5.02  ...   \n",
       "2014-01-02  2014      1    2 -0.51  2.41  4.24  4.03  0.33  1.08 -3.14  ...   \n",
       "2014-01-03  2014      1    3 -0.74  1.89  4.76  5.05 -0.44  0.69  0.24  ...   \n",
       "2014-01-04  2014      1    4 -0.33  2.73  4.34  4.79 -0.24  1.82  2.62  ...   \n",
       "2014-01-05  2014      1    5 -1.35  2.03  7.63  7.99  1.27  1.01  2.09  ...   \n",
       "\n",
       "            TR42  TR51  TR52  TR10  TR32       PT16       PT11    PT18  \\\n",
       "2014-01-01  2.65  1.55  2.11  6.12  7.72   8.636825   8.731325  10.565   \n",
       "2014-01-02  4.02  2.56  4.12  7.05  7.49  10.758254  10.227229  13.910   \n",
       "2014-01-03  4.70  4.05  4.52  7.43  7.19  11.313810  11.066747  13.585   \n",
       "2014-01-04  4.11  4.10  4.75  6.38  6.94   8.148730   7.594337  12.485   \n",
       "2014-01-05  3.14  2.56  3.86  6.08  6.06   9.025714   9.089036  10.570   \n",
       "\n",
       "                 PT15       PT17  \n",
       "2014-01-01  13.740625  13.158125  \n",
       "2014-01-02  15.230625  14.342500  \n",
       "2014-01-03  14.732500  13.901250  \n",
       "2014-01-04  14.268750  13.226250  \n",
       "2014-01-05  12.385000  13.656875  \n",
       "\n",
       "[5 rows x 319 columns]"
      ]
     },
     "execution_count": 71,
     "metadata": {},
     "output_type": "execute_result"
    }
   ],
   "source": [
    "df_TA = pd.read_csv('TA_tab.csv',delimiter=';')\n",
    "df_TA.index=pd.to_datetime(df_TP[['Year','Month','Day']])\n",
    "df_TA.head()"
   ]
  },
  {
   "cell_type": "code",
   "execution_count": 21,
   "metadata": {},
   "outputs": [
    {
     "data": {
      "text/plain": [
       "[<matplotlib.lines.Line2D at 0x1912a945880>]"
      ]
     },
     "execution_count": 21,
     "metadata": {},
     "output_type": "execute_result"
    },
    {
     "data": {
      "image/png": "[encoded data removed]",
      "text/plain": [
       "<Figure size 432x288 with 1 Axes>"
      ]
     },
     "metadata": {
      "needs_background": "light"
     },
     "output_type": "display_data"
    }
   ],
   "source": [
    "plt.plot(df_TA['CZ05'])"
   ]
  },
  {
   "cell_type": "code",
   "execution_count": 44,
   "metadata": {},
   "outputs": [
    {
     "data": {
      "text/html": [
       "<div>\n",
       "<style scoped>\n",
       "    .dataframe tbody tr th:only-of-type {\n",
       "        vertical-align: middle;\n",
       "    }\n",
       "\n",
       "    .dataframe tbody tr th {\n",
       "        vertical-align: top;\n",
       "    }\n",
       "\n",
       "    .dataframe thead th {\n",
       "        text-align: right;\n",
       "    }\n",
       "</style>\n",
       "<table border=\"1\" class=\"dataframe\">\n",
       "  <thead>\n",
       "    <tr style=\"text-align: right;\">\n",
       "      <th></th>\n",
       "      <th>Year</th>\n",
       "      <th>Month</th>\n",
       "      <th>Day</th>\n",
       "      <th>CH02</th>\n",
       "      <th>CH03</th>\n",
       "      <th>AL02</th>\n",
       "      <th>AL03</th>\n",
       "      <th>BG33</th>\n",
       "      <th>DE13</th>\n",
       "      <th>CZ05</th>\n",
       "      <th>...</th>\n",
       "      <th>TR42</th>\n",
       "      <th>TR51</th>\n",
       "      <th>TR52</th>\n",
       "      <th>TR10</th>\n",
       "      <th>TR32</th>\n",
       "      <th>PT16</th>\n",
       "      <th>PT11</th>\n",
       "      <th>PT18</th>\n",
       "      <th>PT15</th>\n",
       "      <th>PT17</th>\n",
       "    </tr>\n",
       "  </thead>\n",
       "  <tbody>\n",
       "    <tr>\n",
       "      <th>2014-01-01</th>\n",
       "      <td>2014</td>\n",
       "      <td>1</td>\n",
       "      <td>1</td>\n",
       "      <td>1.198886</td>\n",
       "      <td>1.002931</td>\n",
       "      <td>0.118342</td>\n",
       "      <td>0.581515</td>\n",
       "      <td>0.003915</td>\n",
       "      <td>0.764960</td>\n",
       "      <td>0.068982</td>\n",
       "      <td>...</td>\n",
       "      <td>0.304724</td>\n",
       "      <td>0.451596</td>\n",
       "      <td>0.499340</td>\n",
       "      <td>0.150345</td>\n",
       "      <td>0.338869</td>\n",
       "      <td>4.789311</td>\n",
       "      <td>8.565561</td>\n",
       "      <td>0.061441</td>\n",
       "      <td>0.067327</td>\n",
       "      <td>0.062805</td>\n",
       "    </tr>\n",
       "    <tr>\n",
       "      <th>2014-01-02</th>\n",
       "      <td>2014</td>\n",
       "      <td>1</td>\n",
       "      <td>2</td>\n",
       "      <td>6.195658</td>\n",
       "      <td>4.855421</td>\n",
       "      <td>0.262164</td>\n",
       "      <td>0.187678</td>\n",
       "      <td>0.000401</td>\n",
       "      <td>3.647808</td>\n",
       "      <td>0.451397</td>\n",
       "      <td>...</td>\n",
       "      <td>0.314073</td>\n",
       "      <td>2.079475</td>\n",
       "      <td>5.431968</td>\n",
       "      <td>0.071614</td>\n",
       "      <td>3.274042</td>\n",
       "      <td>2.952643</td>\n",
       "      <td>4.075931</td>\n",
       "      <td>0.144131</td>\n",
       "      <td>0.224361</td>\n",
       "      <td>0.461922</td>\n",
       "    </tr>\n",
       "    <tr>\n",
       "      <th>2014-01-03</th>\n",
       "      <td>2014</td>\n",
       "      <td>1</td>\n",
       "      <td>3</td>\n",
       "      <td>1.052179</td>\n",
       "      <td>0.596290</td>\n",
       "      <td>0.229124</td>\n",
       "      <td>0.241635</td>\n",
       "      <td>0.068458</td>\n",
       "      <td>0.666662</td>\n",
       "      <td>0.241116</td>\n",
       "      <td>...</td>\n",
       "      <td>0.142560</td>\n",
       "      <td>1.344989</td>\n",
       "      <td>4.806000</td>\n",
       "      <td>0.132235</td>\n",
       "      <td>0.672080</td>\n",
       "      <td>14.563557</td>\n",
       "      <td>14.222945</td>\n",
       "      <td>17.757360</td>\n",
       "      <td>13.964670</td>\n",
       "      <td>13.125348</td>\n",
       "    </tr>\n",
       "    <tr>\n",
       "      <th>2014-01-04</th>\n",
       "      <td>2014</td>\n",
       "      <td>1</td>\n",
       "      <td>4</td>\n",
       "      <td>6.858864</td>\n",
       "      <td>4.428691</td>\n",
       "      <td>0.162518</td>\n",
       "      <td>0.248443</td>\n",
       "      <td>0.037505</td>\n",
       "      <td>2.333146</td>\n",
       "      <td>0.221227</td>\n",
       "      <td>...</td>\n",
       "      <td>0.421200</td>\n",
       "      <td>1.896048</td>\n",
       "      <td>8.276774</td>\n",
       "      <td>0.314427</td>\n",
       "      <td>0.373032</td>\n",
       "      <td>17.211254</td>\n",
       "      <td>21.064789</td>\n",
       "      <td>3.057696</td>\n",
       "      <td>5.699716</td>\n",
       "      <td>6.241379</td>\n",
       "    </tr>\n",
       "    <tr>\n",
       "      <th>2014-01-05</th>\n",
       "      <td>2014</td>\n",
       "      <td>1</td>\n",
       "      <td>5</td>\n",
       "      <td>9.274176</td>\n",
       "      <td>8.773920</td>\n",
       "      <td>13.594176</td>\n",
       "      <td>9.262080</td>\n",
       "      <td>0.055966</td>\n",
       "      <td>5.802192</td>\n",
       "      <td>1.454458</td>\n",
       "      <td>...</td>\n",
       "      <td>0.196880</td>\n",
       "      <td>0.214091</td>\n",
       "      <td>0.520188</td>\n",
       "      <td>0.378035</td>\n",
       "      <td>0.114912</td>\n",
       "      <td>4.665787</td>\n",
       "      <td>10.601658</td>\n",
       "      <td>0.377201</td>\n",
       "      <td>0.366397</td>\n",
       "      <td>1.036211</td>\n",
       "    </tr>\n",
       "  </tbody>\n",
       "</table>\n",
       "<p>5 rows × 319 columns</p>\n",
       "</div>"
      ],
      "text/plain": [
       "            Year  Month  Day      CH02      CH03       AL02      AL03  \\\n",
       "2014-01-01  2014      1    1  1.198886  1.002931   0.118342  0.581515   \n",
       "2014-01-02  2014      1    2  6.195658  4.855421   0.262164  0.187678   \n",
       "2014-01-03  2014      1    3  1.052179  0.596290   0.229124  0.241635   \n",
       "2014-01-04  2014      1    4  6.858864  4.428691   0.162518  0.248443   \n",
       "2014-01-05  2014      1    5  9.274176  8.773920  13.594176  9.262080   \n",
       "\n",
       "                BG33      DE13      CZ05  ...      TR42      TR51      TR52  \\\n",
       "2014-01-01  0.003915  0.764960  0.068982  ...  0.304724  0.451596  0.499340   \n",
       "2014-01-02  0.000401  3.647808  0.451397  ...  0.314073  2.079475  5.431968   \n",
       "2014-01-03  0.068458  0.666662  0.241116  ...  0.142560  1.344989  4.806000   \n",
       "2014-01-04  0.037505  2.333146  0.221227  ...  0.421200  1.896048  8.276774   \n",
       "2014-01-05  0.055966  5.802192  1.454458  ...  0.196880  0.214091  0.520188   \n",
       "\n",
       "                TR10      TR32       PT16       PT11       PT18       PT15  \\\n",
       "2014-01-01  0.150345  0.338869   4.789311   8.565561   0.061441   0.067327   \n",
       "2014-01-02  0.071614  3.274042   2.952643   4.075931   0.144131   0.224361   \n",
       "2014-01-03  0.132235  0.672080  14.563557  14.222945  17.757360  13.964670   \n",
       "2014-01-04  0.314427  0.373032  17.211254  21.064789   3.057696   5.699716   \n",
       "2014-01-05  0.378035  0.114912   4.665787  10.601658   0.377201   0.366397   \n",
       "\n",
       "                 PT17  \n",
       "2014-01-01   0.062805  \n",
       "2014-01-02   0.461922  \n",
       "2014-01-03  13.125348  \n",
       "2014-01-04   6.241379  \n",
       "2014-01-05   1.036211  \n",
       "\n",
       "[5 rows x 319 columns]"
      ]
     },
     "execution_count": 44,
     "metadata": {},
     "output_type": "execute_result"
    }
   ],
   "source": [
    "df_TP = pd.read_csv('TP_tab.csv',delimiter=';')\n",
    "df_TP.index=pd.to_datetime(df_TP[['Year','Month','Day']])\n",
    "df_TP.head()"
   ]
  },
  {
   "cell_type": "code",
   "execution_count": 63,
   "metadata": {},
   "outputs": [
    {
     "data": {
      "text/plain": [
       "[<matplotlib.lines.Line2D at 0x191d01af6a0>]"
      ]
     },
     "execution_count": 63,
     "metadata": {},
     "output_type": "execute_result"
    },
    {
     "data": {
      "image/png": "[encoded data removed]",
      "text/plain": [
       "<Figure size 432x288 with 1 Axes>"
      ]
     },
     "metadata": {
      "needs_background": "light"
     },
     "output_type": "display_data"
    }
   ],
   "source": [
    "plt.plot(df_TP[(df_TP.index>'2017')&(df_TP.index<'2018')]['CZ05'])"
   ]
  },
  {
   "cell_type": "code",
   "execution_count": 48,
   "metadata": {},
   "outputs": [
    {
     "data": {
      "text/plain": [
       "<AxesSubplot:>"
      ]
     },
     "execution_count": 48,
     "metadata": {},
     "output_type": "execute_result"
    },
    {
     "data": {
      "image/png": "[encoded data removed]",
      "text/plain": [
       "<Figure size 432x288 with 1 Axes>"
      ]
     },
     "metadata": {
      "needs_background": "light"
     },
     "output_type": "display_data"
    }
   ],
   "source": [
    "df_TP['CZ05'].plot()"
   ]
  },
  {
   "cell_type": "code",
   "execution_count": 74,
   "metadata": {},
   "outputs": [
    {
     "data": {
      "text/plain": [
       "<matplotlib.collections.PathCollection at 0x191d06f9400>"
      ]
     },
     "execution_count": 74,
     "metadata": {},
     "output_type": "execute_result"
    },
    {
     "data": {
      "image/png": "[encoded data removed]",
      "text/plain": [
       "<Figure size 432x288 with 1 Axes>"
      ]
     },
     "metadata": {
      "needs_background": "light"
     },
     "output_type": "display_data"
    }
   ],
   "source": [
    "min='2017'\n",
    "max='2018'\n",
    "df_x=df_TP[(df_TP.index>min)&(df_TP.index<max)]['CZ05']\n",
    "df_y=df_TA[(df_TA.index>min)&(df_TA.index<max)]['CZ05']\n",
    "plt.scatter(df_x,df_y)"
   ]
  },
  {
   "cell_type": "code",
   "execution_count": 75,
   "metadata": {},
   "outputs": [],
   "source": [
    "def Graph(df_x,df_y,min,max):\n",
    "    df_x=df_x[(df_x.index>min)&(df_x.index<max)]\n",
    "    df_y=df_y[(df_y.index>min)&(df_y.index<max)]\n",
    "    plt.scatter(df_x,df_y)\n",
    "    plt.show()"
   ]
  },
  {
   "cell_type": "code",
   "execution_count": 79,
   "metadata": {},
   "outputs": [
    {
     "data": {
      "image/png": "[encoded data removed]",
      "text/plain": [
       "<Figure size 432x288 with 1 Axes>"
      ]
     },
     "metadata": {
      "needs_background": "light"
     },
     "output_type": "display_data"
    }
   ],
   "source": [
    "Graph(df_TA['CZ05'],df_HRO['CZ'],'2017','2018')"
   ]
  },
  {
   "cell_type": "code",
   "execution_count": 80,
   "metadata": {},
   "outputs": [
    {
     "data": {
      "image/png": "[encoded data removed]",
      "text/plain": [
       "<Figure size 432x288 with 1 Axes>"
      ]
     },
     "metadata": {
      "needs_background": "light"
     },
     "output_type": "display_data"
    }
   ],
   "source": [
    "Graph(df_TA['CZ05'],df_HRE['CZ'],'2017','2018')"
   ]
  },
  {
   "cell_type": "code",
   "execution_count": 82,
   "metadata": {},
   "outputs": [
    {
     "data": {
      "image/png": "[encoded data removed]",
      "text/plain": [
       "<Figure size 432x288 with 1 Axes>"
      ]
     },
     "metadata": {
      "needs_background": "light"
     },
     "output_type": "display_data"
    }
   ],
   "source": [
    "Graph(df_HRE['CZ'],df_HRO['CZ'],'2017','2018')"
   ]
  },
  {
   "cell_type": "code",
   "execution_count": 83,
   "metadata": {},
   "outputs": [
    {
     "data": {
      "image/png": "[encoded data removed]",
      "text/plain": [
       "<Figure size 432x288 with 1 Axes>"
      ]
     },
     "metadata": {
      "needs_background": "light"
     },
     "output_type": "display_data"
    }
   ],
   "source": [
    "Graph(df_TA['CZ05'],df_TP['CZ05'],'2017','2018')"
   ]
  },
  {
   "cell_type": "code",
   "execution_count": 84,
   "metadata": {},
   "outputs": [
    {
     "data": {
      "image/png": "[encoded data removed]",
      "text/plain": [
       "<Figure size 432x288 with 1 Axes>"
      ]
     },
     "metadata": {
      "needs_background": "light"
     },
     "output_type": "display_data"
    }
   ],
   "source": [
    "Graph(df_TP['CZ05'],df_HRO['CZ'],'2017','2018')"
   ]
  },
  {
   "cell_type": "code",
   "execution_count": 85,
   "metadata": {},
   "outputs": [
    {
     "data": {
      "image/png": "[encoded data removed]",
      "text/plain": [
       "<Figure size 432x288 with 1 Axes>"
      ]
     },
     "metadata": {
      "needs_background": "light"
     },
     "output_type": "display_data"
    }
   ],
   "source": [
    "Graph(df_TP['CZ05'],df_HRE['CZ'],'2017','2018')"
   ]
  }
 ],
 "metadata": {
  "kernelspec": {
   "display_name": "base",
   "language": "python",
   "name": "python3"
  },
  "language_info": {
   "codemirror_mode": {
    "name": "ipython",
    "version": 3
   },
   "file_extension": ".py",
   "mimetype": "text/x-python",
   "name": "python",
   "nbconvert_exporter": "python",
   "pygments_lexer": "ipython3",
   "version": "3.9.12"
  },
  "orig_nbformat": 4,
  "vscode": {
   "interpreter": {
    "hash": "ad2bdc8ecc057115af97d19610ffacc2b4e99fae6737bb82f5d7fb13d2f2c186"
   }
  }
 },
 "nbformat": 4,
 "nbformat_minor": 2
}
