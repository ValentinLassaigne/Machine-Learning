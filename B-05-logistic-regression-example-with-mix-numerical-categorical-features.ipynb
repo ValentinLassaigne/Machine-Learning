{
 "cells": [
  {
   "cell_type": "markdown",
   "id": "7cb99dd9",
   "metadata": {},
   "source": [
    "#  les colonnes catégoriques et numériques\n",
    "\n",
    "categorical and numerical features"
   ]
  },
  {
   "cell_type": "code",
   "execution_count": null,
   "id": "32aed993",
   "metadata": {},
   "outputs": [],
   "source": [
    "import pandas as pd\n",
    "import numpy as np"
   ]
  },
  {
   "cell_type": "markdown",
   "id": "aab22b38",
   "metadata": {},
   "source": [
    "# colonnes catégoriques ou numériques"
   ]
  },
  {
   "cell_type": "code",
   "execution_count": null,
   "id": "bcce8442",
   "metadata": {},
   "outputs": [],
   "source": [
    "df_adult = pd.read_csv('adult.csv')\n",
    "# fichier un peu trafiqué qui peut contenir des différences avec l'original"
   ]
  },
  {
   "cell_type": "code",
   "execution_count": null,
   "id": "798fff48",
   "metadata": {},
   "outputs": [],
   "source": [
    "df_adult.head(2)"
   ]
  },
  {
   "cell_type": "markdown",
   "id": "14dc4844",
   "metadata": {},
   "source": [
    "## sélectionnées en `pandas`"
   ]
  },
  {
   "cell_type": "code",
   "execution_count": null,
   "id": "fb569bad",
   "metadata": {},
   "outputs": [],
   "source": [
    "df_adult.dtypes"
   ]
  },
  {
   "cell_type": "markdown",
   "id": "d5777bc6",
   "metadata": {},
   "source": [
    "les colonnes `object` sont les colonnes non-numériques  \n",
    "donc catégorielles"
   ]
  },
  {
   "cell_type": "code",
   "execution_count": null,
   "id": "67c94ffa",
   "metadata": {},
   "outputs": [],
   "source": [
    "df_adult.select_dtypes(include=object).head(2)"
   ]
  },
  {
   "cell_type": "markdown",
   "id": "35c2e6dd",
   "metadata": {},
   "source": [
    "les colonnes numériques"
   ]
  },
  {
   "cell_type": "code",
   "execution_count": null,
   "id": "e22c41cd",
   "metadata": {},
   "outputs": [],
   "source": [
    "df_adult.select_dtypes(include='number').head(2)"
   ]
  },
  {
   "cell_type": "markdown",
   "id": "5788f415",
   "metadata": {},
   "source": [
    "## sélectionnées en `sklearn`"
   ]
  },
  {
   "cell_type": "code",
   "execution_count": null,
   "id": "65988548",
   "metadata": {},
   "outputs": [],
   "source": [
    "from sklearn.compose import make_column_selector as selector"
   ]
  },
  {
   "cell_type": "code",
   "execution_count": null,
   "id": "cf6a8013",
   "metadata": {},
   "outputs": [],
   "source": [
    "cat_sel = selector(dtype_include=object) # en sklearn (qui utilise select_dtypes de pandas)\n",
    "cat_columns = cat_sel(df_adult)\n",
    "cat_columns"
   ]
  },
  {
   "cell_type": "code",
   "execution_count": null,
   "id": "598e5602",
   "metadata": {},
   "outputs": [],
   "source": [
    "num_sel = selector(dtype_include='number')\n",
    "num_sel(df_adult)"
   ]
  },
  {
   "cell_type": "markdown",
   "id": "a318e4f7",
   "metadata": {},
   "source": [
    "## colonnes catégorielles  `int` ou `float`\n",
    "\n",
    "besoin de comprendre ce que contiennent les colonnes  \n",
    "et la relation du contenu avec le type de la colonne en `pandas`  \n",
    "\n",
    "(`float` peut apparaître lors de valeurs manquantes dans une colonne de `int`)"
   ]
  },
  {
   "cell_type": "markdown",
   "id": "910ce9bd",
   "metadata": {},
   "source": [
    "on crée une dataframe avec une colonne de genre ($1$ pour masculin et $2$ pour féminin) comportant des valeurs manquantes"
   ]
  },
  {
   "cell_type": "code",
   "execution_count": null,
   "id": "b5a9e731",
   "metadata": {},
   "outputs": [],
   "source": [
    "df_genre = pd.DataFrame(np.random.choice([1, 2, np.nan], size=100), columns=['genre'])\n",
    "df_genre.dtypes"
   ]
  },
  {
   "cell_type": "markdown",
   "id": "423e3806",
   "metadata": {},
   "source": [
    "vous remarquez le type **`float`**\n",
    "- `np.nan` est de type `float`  \n",
    "- `pandas` n'a pas (encore)  d'équivalent à `np.nan` pour les `int`  \n",
    "- donc cette colonne `sexe` est de type `float` et pas `int`"
   ]
  },
  {
   "cell_type": "code",
   "execution_count": null,
   "id": "55c91fc8",
   "metadata": {},
   "outputs": [],
   "source": [
    "df_genre.head(2)"
   ]
  },
  {
   "cell_type": "markdown",
   "id": "f9de2011",
   "metadata": {},
   "source": [
    "**mais** cette colonne\n",
    "- n'est pas une variable réelle (même si elle est de type `float`)\n",
    "- n'est pas une variables ordonnée ici $1 \\not< 2$\n",
    "- elle ne doit pas être traitée comme une colonne à valeurs réelle lors de son utilisation dans des modèles de prédictions  \n"
   ]
  },
  {
   "cell_type": "markdown",
   "id": "85100072",
   "metadata": {},
   "source": [
    "on peut aussi s'en rendre compte en comptant les valeurs contenues dans cette colonne:"
   ]
  },
  {
   "cell_type": "code",
   "execution_count": null,
   "id": "4aa837d0",
   "metadata": {},
   "outputs": [],
   "source": [
    "df_genre['genre'].unique() # les valeurs"
   ]
  },
  {
   "cell_type": "code",
   "execution_count": null,
   "id": "ce3b51f3",
   "metadata": {},
   "outputs": [],
   "source": [
    "df_genre.value_counts(dropna=False) # leur distribution"
   ]
  },
  {
   "cell_type": "markdown",
   "id": "c12a34cb",
   "metadata": {},
   "source": [
    "# passage en type `category`"
   ]
  },
  {
   "cell_type": "markdown",
   "id": "cda37a6e",
   "metadata": {},
   "source": [
    "## catégories non-ordonnées en `pandas`"
   ]
  },
  {
   "cell_type": "code",
   "execution_count": null,
   "id": "88705cb1",
   "metadata": {},
   "outputs": [],
   "source": [
    "df_adult_pd = df_adult[cat_columns].copy()\n",
    "df_adult_pd.dtypes # des types object (pointeur de 64 bits)"
   ]
  },
  {
   "cell_type": "code",
   "execution_count": null,
   "id": "e4b45ec9",
   "metadata": {},
   "outputs": [],
   "source": [
    "df_adult_pd = df_adult_pd.astype('category')"
   ]
  },
  {
   "cell_type": "code",
   "execution_count": null,
   "id": "aa9cbf66",
   "metadata": {},
   "outputs": [],
   "source": [
    "df_adult_pd.dtypes"
   ]
  },
  {
   "cell_type": "code",
   "execution_count": null,
   "id": "bd2fe13a",
   "metadata": {},
   "outputs": [],
   "source": [
    "df_adult_pd['marital-status'][0:2]"
   ]
  },
  {
   "cell_type": "markdown",
   "id": "d10c0972",
   "metadata": {},
   "source": [
    "pour avoir les codes:"
   ]
  },
  {
   "cell_type": "code",
   "execution_count": null,
   "id": "ebb03167",
   "metadata": {},
   "outputs": [],
   "source": [
    "df_adult_pd['marital-status'].cat.codes"
   ]
  },
  {
   "cell_type": "code",
   "execution_count": null,
   "id": "88cbb2e3",
   "metadata": {},
   "outputs": [],
   "source": [
    "df_adult_pd['marital-status'].cat.categories"
   ]
  },
  {
   "cell_type": "code",
   "execution_count": null,
   "id": "0e1f5db2",
   "metadata": {},
   "outputs": [],
   "source": [
    "df_adult_pd['marital-status'].cat.codes.value_counts()"
   ]
  },
  {
   "cell_type": "markdown",
   "id": "08a8d5cb",
   "metadata": {},
   "source": [
    "Ici dans `marital-status`\n",
    "- `Divorced` est à $0$\n",
    "- `Widowed` est à $6$\n",
    "\n",
    "ça n'a bien sûr aucun sens pour des calcul: ces valeurs ne doivent pas être utilisées lors de prédictions !"
   ]
  },
  {
   "cell_type": "markdown",
   "id": "8b6d4e49",
   "metadata": {},
   "source": [
    "## catégories ordonnées en `pandas`\n",
    "\n",
    "`ordinal encoding`"
   ]
  },
  {
   "cell_type": "markdown",
   "id": "8b2a6170",
   "metadata": {},
   "source": [
    "Wikipedia\n",
    "\n",
    "*Ordinal data is a categorical, statistical data type where the variables have natural, ordered categories and the distances between the categories are not known.*\n",
    "\n",
    "Attention: ne pas attribuer ces codages à une variable catégorielle non ordonnée\n",
    "\n",
    "par contre, pour des catégories ordonnées, ces codes ont du sens\n",
    "\n",
    "e.g. `petit` à $0$ , `moyen` à $1$ et `grand` à $2$"
   ]
  },
  {
   "cell_type": "code",
   "execution_count": null,
   "id": "bb0cb3ca",
   "metadata": {},
   "outputs": [],
   "source": [
    "df_size = pd.DataFrame(np.random.choice(['petit', 'moyen', 'grand'], size=100),\n",
    "                       columns=['size'])\n",
    "df_size['size'].value_counts()"
   ]
  },
  {
   "cell_type": "code",
   "execution_count": null,
   "id": "8c36cb0f",
   "metadata": {},
   "outputs": [],
   "source": [
    "from pandas.api.types import CategoricalDtype"
   ]
  },
  {
   "cell_type": "code",
   "execution_count": null,
   "id": "3ca0ca3e",
   "metadata": {},
   "outputs": [],
   "source": [
    "cat_type = CategoricalDtype(categories=['petit', 'moyen', 'grand'], ordered=True)\n",
    "                                       # on donne l'ordre des classes dans la catégorie"
   ]
  },
  {
   "cell_type": "markdown",
   "id": "1e39a1bc",
   "metadata": {},
   "source": [
    "on met ce type comme type de la colonne  \n",
    "un type de variable ordinale où 'petit' < 'moyen' < 'grand'"
   ]
  },
  {
   "cell_type": "code",
   "execution_count": null,
   "id": "a7054e92",
   "metadata": {},
   "outputs": [],
   "source": [
    "df_size['size'] = df_size['size'].astype(cat_type)\n",
    "# df['size'].value_counts()"
   ]
  },
  {
   "cell_type": "markdown",
   "id": "c31489d4",
   "metadata": {},
   "source": [
    "## one-hot-encoding"
   ]
  },
  {
   "cell_type": "code",
   "execution_count": null,
   "id": "2a09f56e",
   "metadata": {},
   "outputs": [],
   "source": [
    "from sklearn.preprocessing import OneHotEncoder"
   ]
  },
  {
   "cell_type": "markdown",
   "id": "aa370fd0",
   "metadata": {},
   "source": [
    "quand les catégories ne sont pas ordonnées, pour utiliser ces colonnes dans des calculs de prédiction  \n",
    "on peut utiliser un one-hot-encoding\n",
    "\n",
    "pour une colonne `color` avec les catégories `green` , `white` et `red`\n",
    "- on crée autant de colonne que de valeurs de catégories  \n",
    "(ici $3$ colonnes) `color_green` `color_white` et `color_red`\n",
    "\n",
    "\n",
    "- et pour chaque observation\n",
    "   - on met `1` dans la colonne qui correspond à sa catégorie  \n",
    "   e.g. si l'observation est `red` dans `color`, elle sera `1` dans `color_red`\n",
    "   - et $0$ dans les autres colonnes  \n",
    "   e.g. si l'observation est `red` dans `color`, elle sera `0` dans `color_white` et dans `color_green`\n",
    "   \n",
    "   \n",
    "les nouvelles colonnes n'ont plus aucun lien alors qu'elles représentent pourtant la même information  \n",
    "(on perd de l'information)"
   ]
  },
  {
   "cell_type": "code",
   "execution_count": null,
   "id": "8cd9375c",
   "metadata": {},
   "outputs": [],
   "source": [
    "encoder = OneHotEncoder(sparse=False, # c'est par construction très très parse donc il faut mettre sparse à True\n",
    "                                      # et PAS à False\n",
    "                                      # mais là on veut montrer ce qui se passe et pas calculer (donc on le fait)\n",
    "                        handle_unknown=\"ignore\", # pour éviter le problème d'une catégorie\n",
    "                                                 # présente dans le jeux de test\n",
    "                                                 # et pas dans le jeu d'apprentissage\n",
    "                                                 # on lui demande d'ignorer ces erreurs\n",
    "                                                 # et de ne pas lancer une exception\n",
    "                        # dtype=int \n",
    "                       )\n",
    "\n",
    "new_cols = encoder.fit_transform(df_adult[cat_columns])\n",
    "\n",
    "# on part d'un tableau de 9 colonnes\n",
    "\n",
    "print(len(cat_columns))\n",
    "\n",
    "\n",
    "# on récupère un tableau numpy de 104 colonnes pour les 9 initiales\n",
    "\n",
    "print(new_cols.shape[1])\n",
    "\n",
    "# les colonnes sont pleines de vide ...\n",
    "\n",
    "new_cols"
   ]
  },
  {
   "cell_type": "code",
   "execution_count": null,
   "id": "b9e60249",
   "metadata": {},
   "outputs": [],
   "source": [
    "# l'encoder a généré les 104 noms de colonnes\n",
    "feature_names = encoder.get_feature_names_out(input_features=cat_columns)\n",
    "feature_names.shape"
   ]
  },
  {
   "cell_type": "code",
   "execution_count": null,
   "id": "b7ed639a",
   "metadata": {},
   "outputs": [],
   "source": [
    "# on peut en faire une dataframe (si besoin)\n",
    "pd.DataFrame(new_cols, columns=feature_names).head(2)"
   ]
  },
  {
   "cell_type": "markdown",
   "id": "2d0bc0b5",
   "metadata": {},
   "source": [
    "## prédiction du salaire par regression"
   ]
  },
  {
   "cell_type": "code",
   "execution_count": null,
   "id": "77ecf2ee",
   "metadata": {},
   "outputs": [],
   "source": [
    "import pandas as pd\n",
    "import numpy as np\n",
    "import matplotlib.pyplot as plt"
   ]
  },
  {
   "cell_type": "code",
   "execution_count": null,
   "id": "454bcda6",
   "metadata": {},
   "outputs": [],
   "source": [
    "df = pd.read_csv('adult.csv')\n",
    "cat_columns = ['workclass', 'education', 'marital-status', 'occupation',\n",
    "               'relationship', 'race', 'sex', 'native-country']\n",
    "num_columns = ['age', 'capital-gain', 'capital-loss', 'hours-per-week',]"
   ]
  },
  {
   "cell_type": "markdown",
   "id": "63c758ca",
   "metadata": {},
   "source": [
    "### only one-hot encoded columns"
   ]
  },
  {
   "cell_type": "code",
   "execution_count": null,
   "id": "24169d1f",
   "metadata": {},
   "outputs": [],
   "source": [
    "from sklearn.preprocessing import OneHotEncoder\n",
    "\n",
    "from sklearn.pipeline import make_pipeline\n",
    "from sklearn.model_selection import cross_validate\n",
    "from sklearn.linear_model import LogisticRegression"
   ]
  },
  {
   "cell_type": "code",
   "execution_count": null,
   "id": "165ae721",
   "metadata": {},
   "outputs": [],
   "source": [
    "model_hot = make_pipeline(\n",
    "    OneHotEncoder(handle_unknown=\"ignore\"),\n",
    "    LogisticRegression(max_iter=500)\n",
    ")\n",
    "\n",
    "X = df[cat_columns]\n",
    "y = df['class'].astype('category')"
   ]
  },
  {
   "cell_type": "code",
   "execution_count": null,
   "id": "5a9c88ff",
   "metadata": {},
   "outputs": [],
   "source": [
    "cv_results_hot = cross_validate(model_hot, X, y)\n",
    "cv_results_hot"
   ]
  },
  {
   "cell_type": "code",
   "execution_count": null,
   "id": "35be5a76",
   "metadata": {},
   "outputs": [],
   "source": [
    "scores_hot = cv_results_hot[\"test_score\"]\n",
    "print(f\"The accuracy is: {scores_hot.mean():.3f} ± {scores_hot.std():.3f}\")"
   ]
  },
  {
   "cell_type": "markdown",
   "id": "e28e374b",
   "metadata": {},
   "source": [
    "### only numeric columns"
   ]
  },
  {
   "cell_type": "code",
   "execution_count": null,
   "id": "044e54cb",
   "metadata": {},
   "outputs": [],
   "source": [
    "from sklearn.pipeline import make_pipeline\n",
    "from sklearn.model_selection import cross_validate\n",
    "from sklearn.linear_model import LogisticRegression\n",
    "\n",
    "from sklearn.preprocessing import StandardScaler"
   ]
  },
  {
   "cell_type": "code",
   "execution_count": null,
   "id": "c79a5d15",
   "metadata": {},
   "outputs": [],
   "source": [
    "model_num = make_pipeline(\n",
    "    StandardScaler(),\n",
    "    LogisticRegression()\n",
    ")\n",
    "\n",
    "X = df[num_columns]\n",
    "y = df['class'].astype('category')#.cat.codes"
   ]
  },
  {
   "cell_type": "code",
   "execution_count": null,
   "id": "e036d8c2",
   "metadata": {},
   "outputs": [],
   "source": [
    "cv_results_num = cross_validate(model_num, X, y)\n",
    "cv_results_num"
   ]
  },
  {
   "cell_type": "code",
   "execution_count": null,
   "id": "a9461126",
   "metadata": {},
   "outputs": [],
   "source": [
    "scores_num = cv_results_num[\"test_score\"]\n",
    "print(f\"The accuracy is: {scores_num.mean():.3f} ± {scores_num.std():.3f}\")"
   ]
  },
  {
   "cell_type": "markdown",
   "id": "e1e880d0",
   "metadata": {},
   "source": [
    "### with all columns"
   ]
  },
  {
   "cell_type": "code",
   "execution_count": null,
   "id": "0c0af990",
   "metadata": {},
   "outputs": [],
   "source": [
    "from sklearn.model_selection import cross_validate\n",
    "from sklearn.pipeline import make_pipeline\n",
    "from sklearn.linear_model import LogisticRegression\n",
    "\n",
    "from sklearn.preprocessing import OneHotEncoder\n",
    "from sklearn.compose import ColumnTransformer\n",
    "from sklearn.preprocessing import StandardScaler"
   ]
  },
  {
   "cell_type": "code",
   "execution_count": null,
   "id": "7b5b9223",
   "metadata": {},
   "outputs": [],
   "source": [
    "ct = ColumnTransformer(\n",
    "    [('std_scaler', StandardScaler(), num_columns),\n",
    "     ('ont_hot_encoding',\n",
    "      OneHotEncoder(handle_unknown=\"ignore\", sparse=True), # try False to see the difference in fit times\n",
    "      cat_columns),\n",
    "    ])"
   ]
  },
  {
   "cell_type": "code",
   "execution_count": null,
   "id": "060ca481",
   "metadata": {},
   "outputs": [],
   "source": [
    "model_all = make_pipeline(\n",
    "    ct,\n",
    "    LogisticRegression(max_iter=500)\n",
    ")\n",
    "X = df[cat_columns+num_columns]\n",
    "y = df['class']"
   ]
  },
  {
   "cell_type": "code",
   "execution_count": null,
   "id": "3d65faa2",
   "metadata": {},
   "outputs": [],
   "source": [
    "cv_results_all = cross_validate(model_all, X, y)\n",
    "cv_results_all"
   ]
  },
  {
   "cell_type": "code",
   "execution_count": null,
   "id": "cab4cd24",
   "metadata": {},
   "outputs": [],
   "source": [
    "scores_all = cv_results_all[\"test_score\"]\n",
    "print(f\"The accuracy is: {scores_all.mean():.3f} ± {scores_all.std():.3f}\")"
   ]
  },
  {
   "cell_type": "markdown",
   "id": "c480a1ac",
   "metadata": {},
   "source": [
    "### colonne déjà encodée"
   ]
  },
  {
   "cell_type": "markdown",
   "id": "a2725bc0",
   "metadata": {},
   "source": [
    "la dataframe originale contient une colonne qui est l'encodage d'une autre"
   ]
  },
  {
   "cell_type": "code",
   "execution_count": null,
   "id": "8c2f07ea",
   "metadata": {},
   "outputs": [],
   "source": [
    "df = pd.read_csv('adult.data', header=None)"
   ]
  },
  {
   "cell_type": "code",
   "execution_count": null,
   "id": "ba5743c9",
   "metadata": {},
   "outputs": [],
   "source": [
    "df.head(2)"
   ]
  },
  {
   "cell_type": "markdown",
   "id": "546a0732",
   "metadata": {},
   "source": [
    "ce sont les codes ordonnés de la colonne `education`"
   ]
  },
  {
   "cell_type": "markdown",
   "id": "5c3fad0c",
   "metadata": {},
   "source": [
    "on peut le voir en calculant des fréquences"
   ]
  },
  {
   "cell_type": "code",
   "execution_count": null,
   "id": "3e63516d",
   "metadata": {},
   "outputs": [],
   "source": [
    "col1 = 3 # colonne des noms de education\n",
    "val1 = ' Bachelors'  # remarquez le ' ' en début de str...\n",
    "\n",
    "col2 = 4 # colonne des codes ordonnés de education\n",
    "val2 = 13\n",
    "\n",
    "np.sum((df[col1] == val1)  &  (df[col2] == val2)) == np.sum(df[col1] == val1) == np.sum(df[col2] == val2)\n",
    "\n",
    "# toutes observations qui ont val1 dans la colonne col1\n",
    "#                         ont val2 dans la colonne col2\n",
    "# et ce nombre est le nombre total des valeurs dans chacune des colonnes"
   ]
  },
  {
   "cell_type": "markdown",
   "id": "1a1c57ae",
   "metadata": {},
   "source": [
    "on utilise `pd.crosstab` qui calcule cette table des fréquences des valeurs"
   ]
  },
  {
   "cell_type": "code",
   "execution_count": null,
   "id": "2e9b9e30",
   "metadata": {},
   "outputs": [],
   "source": [
    "pd.crosstab(df[4], df[3])"
   ]
  },
  {
   "cell_type": "markdown",
   "id": "1523cdef",
   "metadata": {},
   "source": [
    "on essaie sur les colonnes education et workclass"
   ]
  },
  {
   "cell_type": "code",
   "execution_count": null,
   "id": "7409803f",
   "metadata": {},
   "outputs": [],
   "source": [
    "pd.crosstab(df[1], df[3])\n",
    "# c'est très mélangé pas de lien direct évident"
   ]
  },
  {
   "cell_type": "markdown",
   "id": "c6f79481",
   "metadata": {},
   "source": [
    "exercice: mettre cet encodage pour la colonne `education` à la place d'un one-hot-encoding de `education` et relancer l'apprentissage"
   ]
  },
  {
   "cell_type": "markdown",
   "id": "909c35bb",
   "metadata": {},
   "source": [
    "## jeu de test"
   ]
  },
  {
   "cell_type": "markdown",
   "id": "a463f683",
   "metadata": {},
   "source": [
    "le fichier `adult.test` contient un jeu de test  \n",
    "attention sa première ligne est un commentaire qu'il faut skipper  \n",
    "et il n'y a pas de noms de colonnes"
   ]
  },
  {
   "cell_type": "code",
   "execution_count": null,
   "id": "e176e3f0",
   "metadata": {},
   "outputs": [],
   "source": [
    "df_test = pd.read_csv('adult.test', skiprows=1, header=None)\n",
    "df_test"
   ]
  },
  {
   "cell_type": "markdown",
   "id": "faa3762a",
   "metadata": {},
   "source": [
    "exercice: utiliser ce jeu de données de test pour calculer les score de généralisation des différents prédicteurs que nous avons entraînés dans ce notebook"
   ]
  }
 ],
 "metadata": {
  "kernelspec": {
   "display_name": "Python 3 (ipykernel)",
   "language": "python",
   "name": "python3"
  }
 },
 "nbformat": 4,
 "nbformat_minor": 5
}
