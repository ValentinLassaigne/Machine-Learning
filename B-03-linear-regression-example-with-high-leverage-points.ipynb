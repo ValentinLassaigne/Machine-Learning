{
 "cells": [
  {
   "cell_type": "markdown",
   "id": "c6755456",
   "metadata": {
    "slideshow": {
     "slide_type": "-"
    }
   },
   "source": [
    "# L'effet d'un outlier sur un modèle de prédiction\n",
    "\n",
    "*high leverage point*"
   ]
  },
  {
   "cell_type": "code",
   "execution_count": null,
   "id": "2deab624",
   "metadata": {},
   "outputs": [],
   "source": [
    "import matplotlib.pyplot as plt"
   ]
  },
  {
   "cell_type": "code",
   "execution_count": null,
   "id": "195f7005",
   "metadata": {},
   "outputs": [],
   "source": [
    "import numpy as np\n",
    "import pandas as pd\n",
    "from sklearn import linear_model\n",
    "\n",
    "plt.rcParams[\"figure.figsize\"] = [3, 3]"
   ]
  },
  {
   "cell_type": "markdown",
   "id": "0380e653",
   "metadata": {},
   "source": [
    "nous regardons l'impact du taux de criminalité des quartiers sur les prix des logements\n",
    "\n",
    "les données contiennent les colonnes suivantes\n",
    "\n",
    "```python\n",
    "['HousePrice', 'HsPrc($10,000)', 'CrimeRate', 'MilesPhila', 'PopChg', 'Name', 'County']\n",
    "```\n",
    "\n",
    "nous ne sommes intéressés que par\n",
    "\n",
    "```python\n",
    "['Taux de criminalité', 'Prix de la maison']\n",
    "```\n",
    "\n",
    "notre question :\n",
    "Quelle est l'influence de la colonne `CrimeRate` sur la colonne `HousePrice` ?"
   ]
  },
  {
   "cell_type": "markdown",
   "id": "bffaef16",
   "metadata": {},
   "source": [
    "on lit le `csv` en ne gardant que les colonnes `CrimeRate` and `HousePrice`  \n",
    "utilisation du paramètre `usecols` de `pandas.read_csv`"
   ]
  },
  {
   "cell_type": "code",
   "execution_count": null,
   "id": "d497956e",
   "metadata": {},
   "outputs": [],
   "source": [
    "filename = 'Philadelphia_Crime_Rate_noNA.csv'\n",
    "philadelphia = pd.read_csv(filename,\n",
    "                           usecols=['CrimeRate', 'HousePrice'],\n",
    "                           sep=',')"
   ]
  },
  {
   "cell_type": "code",
   "execution_count": null,
   "id": "7501799b",
   "metadata": {},
   "outputs": [],
   "source": [
    "philadelphia.head()"
   ]
  },
  {
   "cell_type": "code",
   "execution_count": null,
   "id": "a80e705d",
   "metadata": {},
   "outputs": [],
   "source": [
    "philadelphia.shape"
   ]
  },
  {
   "cell_type": "code",
   "execution_count": null,
   "id": "967738c8",
   "metadata": {},
   "outputs": [],
   "source": [
    "philadelphia.dtypes"
   ]
  },
  {
   "cell_type": "code",
   "execution_count": null,
   "id": "873a41cd",
   "metadata": {},
   "outputs": [],
   "source": [
    "philadelphia.describe()"
   ]
  },
  {
   "cell_type": "code",
   "execution_count": null,
   "id": "d61c07d2",
   "metadata": {},
   "outputs": [],
   "source": [
    "philadelphia[['HousePrice']].boxplot(figsize=(2, 2))\n",
    "plt.show()"
   ]
  },
  {
   "cell_type": "code",
   "execution_count": null,
   "id": "f2b14163",
   "metadata": {},
   "outputs": [],
   "source": [
    "# plt.boxplot?"
   ]
  },
  {
   "cell_type": "code",
   "execution_count": null,
   "id": "3857dc90",
   "metadata": {},
   "outputs": [],
   "source": [
    "philadelphia[['CrimeRate']].boxplot(figsize=(2, 2))\n",
    "plt.show()"
   ]
  },
  {
   "cell_type": "code",
   "execution_count": null,
   "id": "09394ea8",
   "metadata": {},
   "outputs": [],
   "source": [
    "philadelphia[['CrimeRate', 'HousePrice',]].hist(bins=10)\n",
    "plt.tight_layout()\n",
    "plt.show()"
   ]
  },
  {
   "cell_type": "code",
   "execution_count": null,
   "id": "143872d1",
   "metadata": {},
   "outputs": [],
   "source": [
    "philadelphia.plot.scatter(x='CrimeRate', y='HousePrice', marker='.')\n",
    "plt.show()"
   ]
  },
  {
   "cell_type": "markdown",
   "id": "622b3215",
   "metadata": {},
   "source": [
    "## prediction en présence de l'outlier"
   ]
  },
  {
   "cell_type": "code",
   "execution_count": null,
   "id": "9b73c566",
   "metadata": {},
   "outputs": [],
   "source": [
    "from sklearn.preprocessing import StandardScaler"
   ]
  },
  {
   "cell_type": "code",
   "execution_count": null,
   "id": "2711e8f9",
   "metadata": {},
   "outputs": [],
   "source": [
    "from sklearn.linear_model import LinearRegression"
   ]
  },
  {
   "cell_type": "code",
   "execution_count": null,
   "id": "88e6ab3a",
   "metadata": {},
   "outputs": [],
   "source": [
    "philadelphia.shape"
   ]
  },
  {
   "cell_type": "code",
   "execution_count": null,
   "id": "e6697ab2",
   "metadata": {},
   "outputs": [],
   "source": [
    "philadelphia[['CrimeRate']].shape"
   ]
  },
  {
   "cell_type": "code",
   "execution_count": null,
   "id": "6e6bd077",
   "metadata": {},
   "outputs": [],
   "source": [
    "X = philadelphia[['CrimeRate']] # we input a dataframe\n",
    "y = philadelphia['HousePrice']  # we predict a colonne"
   ]
  },
  {
   "cell_type": "code",
   "execution_count": null,
   "id": "3a634b9c",
   "metadata": {},
   "outputs": [],
   "source": [
    "X_std = StandardScaler().fit_transform(X)"
   ]
  },
  {
   "cell_type": "code",
   "execution_count": null,
   "id": "bbd2d24f",
   "metadata": {},
   "outputs": [],
   "source": [
    "X_std = StandardScaler().fit(X).transform(X)"
   ]
  },
  {
   "cell_type": "markdown",
   "id": "d45cf961",
   "metadata": {},
   "source": [
    "il faudrait utiliser un pipeline  \n",
    "on le laisse en exercice"
   ]
  },
  {
   "cell_type": "code",
   "execution_count": null,
   "id": "128948e6",
   "metadata": {},
   "outputs": [],
   "source": [
    "regr = LinearRegression()"
   ]
  },
  {
   "cell_type": "code",
   "execution_count": null,
   "id": "7daf29f5",
   "metadata": {},
   "outputs": [],
   "source": [
    "regr = regr.fit(X_std, y)"
   ]
  },
  {
   "cell_type": "markdown",
   "id": "bd4a5f63",
   "metadata": {
    "slideshow": {
     "slide_type": "-"
    }
   },
   "source": [
    "on regarde les valeurs des paramètres `intercept_` et `coef_` qui ont été entraînés"
   ]
  },
  {
   "cell_type": "code",
   "execution_count": null,
   "id": "27d932dd",
   "metadata": {},
   "outputs": [],
   "source": [
    "regr.intercept_, regr.coef_[0]"
   ]
  },
  {
   "cell_type": "markdown",
   "id": "63196846",
   "metadata": {
    "slideshow": {
     "slide_type": "-"
    }
   },
   "source": [
    "on prédit nos valeurs pour `y`"
   ]
  },
  {
   "cell_type": "code",
   "execution_count": null,
   "id": "464377f7",
   "metadata": {},
   "outputs": [],
   "source": [
    "y_predict = regr.predict(X_std)"
   ]
  },
  {
   "cell_type": "code",
   "execution_count": null,
   "id": "bd2c8a68",
   "metadata": {},
   "outputs": [],
   "source": [
    "from sklearn.metrics import mean_squared_error"
   ]
  },
  {
   "cell_type": "markdown",
   "id": "aa60b560",
   "metadata": {},
   "source": [
    "on calcule l'erreur"
   ]
  },
  {
   "cell_type": "code",
   "execution_count": null,
   "id": "d943b26d",
   "metadata": {},
   "outputs": [],
   "source": [
    "mean_squared_error(y_predict, y) # ouh elle est très grande"
   ]
  },
  {
   "cell_type": "markdown",
   "id": "c1b768f1",
   "metadata": {
    "slideshow": {
     "slide_type": "-"
    }
   },
   "source": [
    "on calcule le score  \n",
    "on choisit *the coefficient of determination $r^2$ of the prediction*  \n",
    "soit la méthode `score` de la regression  \n",
    "soit la fonction `r2_score` de `metrics`"
   ]
  },
  {
   "cell_type": "code",
   "execution_count": null,
   "id": "cda6ad0b",
   "metadata": {},
   "outputs": [],
   "source": [
    "from sklearn.metrics import r2_score"
   ]
  },
  {
   "cell_type": "markdown",
   "id": "10ed57b1",
   "metadata": {},
   "source": [
    "ce score est défini comme $1 - \\dfrac{u}{v}$ où\n",
    "- $u$ est la MSE entre $y$ et $y_{pred}$\n",
    "- $v$ est ((y_true - y_true.mean()) ** 2).sum()\n",
    "\n",
    "un modèle constant qui prédirait toujours l'espérance de `y`, quelle que soit l'entrée a un score de $0$  \n",
    "le meilleur score est à $1$\n",
    "\n",
    "dans l'implémentation `score` ou `metrics.r2_score` si $v$ est $0$ (`y` constant) la fonction renvoie, pr défaut,  $1$ "
   ]
  },
  {
   "cell_type": "code",
   "execution_count": null,
   "id": "d33f2e63",
   "metadata": {},
   "outputs": [],
   "source": [
    "u = np.sum(np.square(y - y_predict))\n",
    "v = np.sum(np.square(y - np.mean(y)))\n",
    "\n",
    "1 - (u/v)"
   ]
  },
  {
   "cell_type": "code",
   "execution_count": null,
   "id": "236dca4a",
   "metadata": {},
   "outputs": [],
   "source": [
    "regr.score(X_std, y)"
   ]
  },
  {
   "cell_type": "code",
   "execution_count": null,
   "id": "4372d1bc",
   "metadata": {},
   "outputs": [],
   "source": [
    "r2_score(y, y_predict)"
   ]
  },
  {
   "cell_type": "markdown",
   "id": "fdf6e416",
   "metadata": {},
   "source": [
    "il est très mauvais il rejoint le score naïf"
   ]
  },
  {
   "cell_type": "markdown",
   "id": "4cee2eeb",
   "metadata": {
    "slideshow": {
     "slide_type": "-"
    }
   },
   "source": [
    "on plot le `y` prédit et le `y` mesuré (celui du csv)  \n",
    "en fonction de la colonne `CrimeRate`"
   ]
  },
  {
   "cell_type": "code",
   "execution_count": null,
   "id": "9aab9e37",
   "metadata": {},
   "outputs": [],
   "source": [
    "plt.plot(X_std, y, 'b.')\n",
    "plt.plot(X_std, y_predict, 'r-'); # la droite des prédictions\n",
    "plt.show()"
   ]
  },
  {
   "cell_type": "markdown",
   "id": "42a4588e",
   "metadata": {
    "slideshow": {
     "slide_type": "-"
    }
   },
   "source": [
    "idem si on plot la ligne `y = intercept + coeff_0 X`"
   ]
  },
  {
   "cell_type": "code",
   "execution_count": null,
   "id": "91368429",
   "metadata": {},
   "outputs": [],
   "source": [
    "plt.plot(X_std, y, 'b.')\n",
    "plt.plot([np.min(X_std), np.max(X_std)],\n",
    "         [(regr.intercept_ + regr.coef_[0] * i) for i in [np.min(X_std), np.max(X_std)]], 'g-');\n",
    "plt.show()"
   ]
  },
  {
   "cell_type": "markdown",
   "id": "9ec1a66c",
   "metadata": {},
   "source": [
    "la droite de regression est clairement attirée par le point extrême "
   ]
  },
  {
   "cell_type": "markdown",
   "id": "c68ee1bb",
   "metadata": {},
   "source": [
    "## prediction en absence de l'outlier"
   ]
  },
  {
   "cell_type": "markdown",
   "id": "e1b960ad",
   "metadata": {
    "slideshow": {
     "slide_type": "-"
    }
   },
   "source": [
    "on va enlever notre outlier"
   ]
  },
  {
   "cell_type": "code",
   "execution_count": null,
   "id": "bfdc0a1c",
   "metadata": {},
   "outputs": [],
   "source": [
    "philadelphia['CrimeRate'].argmax() # on le cherche"
   ]
  },
  {
   "cell_type": "code",
   "execution_count": null,
   "id": "c71c4acd",
   "metadata": {},
   "outputs": [],
   "source": [
    "philadelphia['CrimeRate'].max()"
   ]
  },
  {
   "cell_type": "code",
   "execution_count": null,
   "id": "4832bfaf",
   "metadata": {},
   "outputs": [],
   "source": [
    "philadelphia.iloc[62] # c'est donc lui"
   ]
  },
  {
   "cell_type": "code",
   "execution_count": null,
   "id": "96fa0587",
   "metadata": {},
   "outputs": [],
   "source": [
    "philadelphia.drop(62, axis=0, inplace=True) # on le drop (axis à 0 parce qu'on drop une observation)\n",
    "                                            # (1 ce sont les colones)"
   ]
  },
  {
   "cell_type": "markdown",
   "id": "484fcc0d",
   "metadata": {},
   "source": [
    "et on recommence tout ..."
   ]
  },
  {
   "cell_type": "code",
   "execution_count": null,
   "id": "efa2f96c",
   "metadata": {},
   "outputs": [],
   "source": [
    "philadelphia.plot.scatter(x='CrimeRate', y='HousePrice', marker='.', figsize=(3, 3))\n",
    "plt.show()"
   ]
  },
  {
   "cell_type": "code",
   "execution_count": null,
   "id": "92570242",
   "metadata": {},
   "outputs": [],
   "source": [
    "X = philadelphia[['CrimeRate']] # we input a dataframe\n",
    "y = philadelphia['HousePrice']  # we predict a colonne\n",
    "\n",
    "X_std = StandardScaler().fit_transform(X)\n",
    "regr = linear_model.LinearRegression()\n",
    "regr = regr.fit(X_std, y)\n",
    "\n",
    "y_predict = regr.predict(X_std)\n",
    "\n",
    "regr.score(X_std, y)"
   ]
  },
  {
   "cell_type": "markdown",
   "id": "9674901d",
   "metadata": {},
   "source": [
    "il est un peu moins mauvais"
   ]
  },
  {
   "cell_type": "code",
   "execution_count": null,
   "id": "034ef41b",
   "metadata": {},
   "outputs": [],
   "source": [
    "plt.plot(X_std, y, 'b.')\n",
    "plt.plot(X_std, y_predict, 'r-'); # la droite des prédictions"
   ]
  },
  {
   "cell_type": "markdown",
   "id": "0b594bf7",
   "metadata": {
    "slideshow": {
     "slide_type": "-"
    }
   },
   "source": [
    "idem si on plot la ligne `y = intercept + coeff_0 X`"
   ]
  },
  {
   "cell_type": "code",
   "execution_count": null,
   "id": "eb65375b",
   "metadata": {},
   "outputs": [],
   "source": [
    "plt.plot(X_std, y, 'b.')\n",
    "plt.plot([np.min(X_std), np.max(X_std)],\n",
    "         [(regr.intercept_ + regr.coef_[0] * i) for i in [np.min(X_std), np.max(X_std)]], 'g-');\n",
    "plt.show()"
   ]
  },
  {
   "cell_type": "markdown",
   "id": "296f0d73",
   "metadata": {
    "slideshow": {
     "slide_type": "-"
    }
   },
   "source": [
    "END"
   ]
  }
 ],
 "metadata": {
  "kernelspec": {
   "display_name": "Python 3 (ipykernel)",
   "language": "python",
   "name": "python3"
  }
 },
 "nbformat": 4,
 "nbformat_minor": 5
}
