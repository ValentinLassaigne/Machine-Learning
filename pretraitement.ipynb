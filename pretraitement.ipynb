{
 "cells": [
  {
   "cell_type": "markdown",
   "id": "2edbd3f5",
   "metadata": {},
   "source": [
    "capteurs:\n",
    "- 1 et 2 salle de cours\n",
    "- 3, 4 et 5 bureaux"
   ]
  },
  {
   "cell_type": "code",
   "execution_count": null,
   "id": "0a3d5fb2",
   "metadata": {},
   "outputs": [],
   "source": [
    "import numpy as np\n",
    "import pandas as pd\n",
    "from matplotlib import pyplot as plt\n",
    "import seaborn as sns\n",
    "import matplotlib as mpl\n",
    "from IPython.display import display\n",
    "# %matplotlib notebook\n",
    "import json"
   ]
  },
  {
   "cell_type": "code",
   "execution_count": null,
   "id": "792c5aeb",
   "metadata": {},
   "outputs": [],
   "source": [
    "plt.rcParams['figure.figsize'] = (30, 15)"
   ]
  },
  {
   "cell_type": "code",
   "execution_count": null,
   "id": "b1e07478",
   "metadata": {},
   "outputs": [],
   "source": [
    "files = [\n",
    "    # promo 2021-2022\n",
    "    './0_Export Donnees Parametres Ambiance du 07-01-22 a 08-04-22.xlsx',\n",
    "    './0_Reponses Questionnaire Confort du 14-02-22 au 31-03-22.xlsx',\n",
    "    # promo 2022-2023\n",
    "    './1_Export Donnees Parametres Ambiance du 25-07-22 a 23-11-22.xlsx', \n",
    "    './1_Reponses Questionnaire Confort du 26-09-22 au 23-11-22.xlsx', \n",
    "    \n",
    "    # réponses\n",
    "#     './Questions - Réponses.xlsx',\n",
    "        ]"
   ]
  },
  {
   "cell_type": "markdown",
   "id": "280110ff",
   "metadata": {},
   "source": [
    "lecture du fichier json des questions et de leurs réponses"
   ]
  },
  {
   "cell_type": "code",
   "execution_count": null,
   "id": "b4160c62",
   "metadata": {},
   "outputs": [],
   "source": [
    "data = open('./Questions - Réponses.json', 'r').read()\n",
    "question_dict = json.loads(data)\n",
    "\n",
    "question_dict['Dans quelle tranche d’âge vous situez-vous ?']"
   ]
  },
  {
   "cell_type": "markdown",
   "id": "da7085e2",
   "metadata": {},
   "source": [
    "lecture de la dateframe des températures de la promotion 2022-2023"
   ]
  },
  {
   "cell_type": "code",
   "execution_count": null,
   "id": "3085953e",
   "metadata": {},
   "outputs": [],
   "source": [
    "df2 = pd.read_excel(files[2])"
   ]
  },
  {
   "cell_type": "markdown",
   "id": "e6eb1381",
   "metadata": {},
   "source": [
    "la colonne des dates n'est pas ordonnée, je la trie"
   ]
  },
  {
   "cell_type": "code",
   "execution_count": null,
   "id": "98b3f708",
   "metadata": {},
   "outputs": [],
   "source": [
    "df2.sort_values('DATE', inplace=True)"
   ]
  },
  {
   "cell_type": "code",
   "execution_count": null,
   "id": "c4119825",
   "metadata": {},
   "outputs": [],
   "source": [
    "df2.shape"
   ]
  },
  {
   "cell_type": "code",
   "execution_count": null,
   "id": "80321ce9",
   "metadata": {},
   "outputs": [],
   "source": [
    "df2.info()"
   ]
  },
  {
   "cell_type": "code",
   "execution_count": null,
   "id": "5a2f3db5",
   "metadata": {},
   "outputs": [],
   "source": [
    "df2.describe()"
   ]
  },
  {
   "cell_type": "markdown",
   "id": "9660df51",
   "metadata": {},
   "source": [
    "on passe la date en index de la dataframe"
   ]
  },
  {
   "cell_type": "code",
   "execution_count": null,
   "id": "8ff8b274",
   "metadata": {},
   "outputs": [],
   "source": [
    "df2.set_index('DATE', inplace=True)"
   ]
  },
  {
   "cell_type": "code",
   "execution_count": null,
   "id": "0e309493",
   "metadata": {
    "scrolled": true
   },
   "outputs": [],
   "source": [
    "temps = [f'Temp {i}' for i in range(1, 6)]"
   ]
  },
  {
   "cell_type": "markdown",
   "id": "04b8aec1",
   "metadata": {},
   "source": [
    "valeurs manquantes dans les colonnes de températures"
   ]
  },
  {
   "cell_type": "code",
   "execution_count": null,
   "id": "1a8f37d9",
   "metadata": {
    "scrolled": true
   },
   "outputs": [],
   "source": [
    "np.sum(df2[temps].isna(), axis=0)"
   ]
  },
  {
   "cell_type": "markdown",
   "id": "cba372ee",
   "metadata": {},
   "source": [
    "plot de tous les couples de températures"
   ]
  },
  {
   "cell_type": "code",
   "execution_count": null,
   "id": "df18ae76",
   "metadata": {
    "scrolled": true
   },
   "outputs": [],
   "source": [
    "cpls = [ (i, j) for i in temps for j in temps if i < j]\n",
    "for c1, c2 in cpls:\n",
    "    df2[[c1, c2]].plot(linestyle='-', marker='.')\n",
    "    plt.ylabel(f'températures')\n",
    "    plt.title(f'Comparaison {c1} et {c2}')\n"
   ]
  },
  {
   "cell_type": "code",
   "execution_count": null,
   "id": "038bbffc",
   "metadata": {},
   "outputs": [],
   "source": []
  }
 ],
 "metadata": {
  "kernelspec": {
   "display_name": "base",
   "language": "python",
   "name": "python3"
  },
  "language_info": {
   "codemirror_mode": {
    "name": "ipython",
    "version": 3
   },
   "file_extension": ".py",
   "mimetype": "text/x-python",
   "name": "python",
   "nbconvert_exporter": "python",
   "pygments_lexer": "ipython3",
   "version": "3.9.12 (main, Apr  4 2022, 05:22:27) [MSC v.1916 64 bit (AMD64)]"
  },
  "toc": {
   "base_numbering": 1,
   "nav_menu": {},
   "number_sections": true,
   "sideBar": true,
   "skip_h1_title": false,
   "title_cell": "Table of Contents",
   "title_sidebar": "Contents",
   "toc_cell": false,
   "toc_position": {},
   "toc_section_display": true,
   "toc_window_display": false
  },
  "vscode": {
   "interpreter": {
    "hash": "ad2bdc8ecc057115af97d19610ffacc2b4e99fae6737bb82f5d7fb13d2f2c186"
   }
  }
 },
 "nbformat": 4,
 "nbformat_minor": 5
}
