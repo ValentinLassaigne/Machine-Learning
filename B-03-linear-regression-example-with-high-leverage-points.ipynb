{
 "cells": [
  {
   "cell_type": "markdown",
   "id": "c6755456",
   "metadata": {
    "slideshow": {
     "slide_type": "-"
    }
   },
   "source": [
    "# L'effet d'un outlier sur un modèle de prédiction\n",
    "\n",
    "*high leverage point*"
   ]
  },
  {
   "cell_type": "code",
   "execution_count": 1,
   "id": "2deab624",
   "metadata": {},
   "outputs": [],
   "source": [
    "import matplotlib.pyplot as plt"
   ]
  },
  {
   "cell_type": "code",
   "execution_count": 2,
   "id": "195f7005",
   "metadata": {},
   "outputs": [],
   "source": [
    "import numpy as np\n",
    "import pandas as pd\n",
    "from sklearn import linear_model\n",
    "\n",
    "plt.rcParams[\"figure.figsize\"] = [3, 3]"
   ]
  },
  {
   "cell_type": "markdown",
   "id": "0380e653",
   "metadata": {},
   "source": [
    "nous regardons l'impact du taux de criminalité des quartiers sur les prix des logements\n",
    "\n",
    "les données contiennent les colonnes suivantes\n",
    "\n",
    "```python\n",
    "['HousePrice', 'HsPrc($10,000)', 'CrimeRate', 'MilesPhila', 'PopChg', 'Name', 'County']\n",
    "```\n",
    "\n",
    "nous ne sommes intéressés que par\n",
    "\n",
    "```python\n",
    "['Taux de criminalité', 'Prix de la maison']\n",
    "```\n",
    "\n",
    "notre question :\n",
    "Quelle est l'influence de la colonne `CrimeRate` sur la colonne `HousePrice` ?"
   ]
  },
  {
   "cell_type": "markdown",
   "id": "bffaef16",
   "metadata": {},
   "source": [
    "on lit le `csv` en ne gardant que les colonnes `CrimeRate` and `HousePrice`  \n",
    "utilisation du paramètre `usecols` de `pandas.read_csv`"
   ]
  },
  {
   "cell_type": "code",
   "execution_count": 3,
   "id": "d497956e",
   "metadata": {},
   "outputs": [],
   "source": [
    "filename = 'Philadelphia_Crime_Rate_noNA.csv'\n",
    "philadelphia = pd.read_csv(filename,\n",
    "                           usecols=['CrimeRate', 'HousePrice'],\n",
    "                           sep=',')"
   ]
  },
  {
   "cell_type": "code",
   "execution_count": 4,
   "id": "7501799b",
   "metadata": {},
   "outputs": [
    {
     "data": {
      "text/html": [
       "<div>\n",
       "<style scoped>\n",
       "    .dataframe tbody tr th:only-of-type {\n",
       "        vertical-align: middle;\n",
       "    }\n",
       "\n",
       "    .dataframe tbody tr th {\n",
       "        vertical-align: top;\n",
       "    }\n",
       "\n",
       "    .dataframe thead th {\n",
       "        text-align: right;\n",
       "    }\n",
       "</style>\n",
       "<table border=\"1\" class=\"dataframe\">\n",
       "  <thead>\n",
       "    <tr style=\"text-align: right;\">\n",
       "      <th></th>\n",
       "      <th>HousePrice</th>\n",
       "      <th>CrimeRate</th>\n",
       "    </tr>\n",
       "  </thead>\n",
       "  <tbody>\n",
       "    <tr>\n",
       "      <th>0</th>\n",
       "      <td>140463</td>\n",
       "      <td>29.7</td>\n",
       "    </tr>\n",
       "    <tr>\n",
       "      <th>1</th>\n",
       "      <td>113033</td>\n",
       "      <td>24.1</td>\n",
       "    </tr>\n",
       "    <tr>\n",
       "      <th>2</th>\n",
       "      <td>124186</td>\n",
       "      <td>19.5</td>\n",
       "    </tr>\n",
       "    <tr>\n",
       "      <th>3</th>\n",
       "      <td>110490</td>\n",
       "      <td>49.4</td>\n",
       "    </tr>\n",
       "    <tr>\n",
       "      <th>4</th>\n",
       "      <td>79124</td>\n",
       "      <td>54.1</td>\n",
       "    </tr>\n",
       "  </tbody>\n",
       "</table>\n",
       "</div>"
      ],
      "text/plain": [
       "   HousePrice  CrimeRate\n",
       "0      140463       29.7\n",
       "1      113033       24.1\n",
       "2      124186       19.5\n",
       "3      110490       49.4\n",
       "4       79124       54.1"
      ]
     },
     "execution_count": 4,
     "metadata": {},
     "output_type": "execute_result"
    }
   ],
   "source": [
    "philadelphia.head()"
   ]
  },
  {
   "cell_type": "code",
   "execution_count": 5,
   "id": "a80e705d",
   "metadata": {},
   "outputs": [
    {
     "data": {
      "text/plain": [
       "(99, 2)"
      ]
     },
     "execution_count": 5,
     "metadata": {},
     "output_type": "execute_result"
    }
   ],
   "source": [
    "philadelphia.shape"
   ]
  },
  {
   "cell_type": "code",
   "execution_count": 6,
   "id": "967738c8",
   "metadata": {},
   "outputs": [
    {
     "data": {
      "text/plain": [
       "HousePrice      int64\n",
       "CrimeRate     float64\n",
       "dtype: object"
      ]
     },
     "execution_count": 6,
     "metadata": {},
     "output_type": "execute_result"
    }
   ],
   "source": [
    "philadelphia.dtypes"
   ]
  },
  {
   "cell_type": "code",
   "execution_count": 7,
   "id": "873a41cd",
   "metadata": {},
   "outputs": [
    {
     "data": {
      "text/html": [
       "<div>\n",
       "<style scoped>\n",
       "    .dataframe tbody tr th:only-of-type {\n",
       "        vertical-align: middle;\n",
       "    }\n",
       "\n",
       "    .dataframe tbody tr th {\n",
       "        vertical-align: top;\n",
       "    }\n",
       "\n",
       "    .dataframe thead th {\n",
       "        text-align: right;\n",
       "    }\n",
       "</style>\n",
       "<table border=\"1\" class=\"dataframe\">\n",
       "  <thead>\n",
       "    <tr style=\"text-align: right;\">\n",
       "      <th></th>\n",
       "      <th>HousePrice</th>\n",
       "      <th>CrimeRate</th>\n",
       "    </tr>\n",
       "  </thead>\n",
       "  <tbody>\n",
       "    <tr>\n",
       "      <th>count</th>\n",
       "      <td>99.000000</td>\n",
       "      <td>99.000000</td>\n",
       "    </tr>\n",
       "    <tr>\n",
       "      <th>mean</th>\n",
       "      <td>157835.606061</td>\n",
       "      <td>32.576768</td>\n",
       "    </tr>\n",
       "    <tr>\n",
       "      <th>std</th>\n",
       "      <td>86644.159973</td>\n",
       "      <td>37.540908</td>\n",
       "    </tr>\n",
       "    <tr>\n",
       "      <th>min</th>\n",
       "      <td>28000.000000</td>\n",
       "      <td>6.600000</td>\n",
       "    </tr>\n",
       "    <tr>\n",
       "      <th>25%</th>\n",
       "      <td>98505.000000</td>\n",
       "      <td>17.400000</td>\n",
       "    </tr>\n",
       "    <tr>\n",
       "      <th>50%</th>\n",
       "      <td>140463.000000</td>\n",
       "      <td>24.100000</td>\n",
       "    </tr>\n",
       "    <tr>\n",
       "      <th>75%</th>\n",
       "      <td>195830.000000</td>\n",
       "      <td>39.800000</td>\n",
       "    </tr>\n",
       "    <tr>\n",
       "      <th>max</th>\n",
       "      <td>475112.000000</td>\n",
       "      <td>366.100000</td>\n",
       "    </tr>\n",
       "  </tbody>\n",
       "</table>\n",
       "</div>"
      ],
      "text/plain": [
       "          HousePrice   CrimeRate\n",
       "count      99.000000   99.000000\n",
       "mean   157835.606061   32.576768\n",
       "std     86644.159973   37.540908\n",
       "min     28000.000000    6.600000\n",
       "25%     98505.000000   17.400000\n",
       "50%    140463.000000   24.100000\n",
       "75%    195830.000000   39.800000\n",
       "max    475112.000000  366.100000"
      ]
     },
     "execution_count": 7,
     "metadata": {},
     "output_type": "execute_result"
    }
   ],
   "source": [
    "philadelphia.describe()"
   ]
  },
  {
   "cell_type": "code",
   "execution_count": 8,
   "id": "d61c07d2",
   "metadata": {},
   "outputs": [
    {
     "data": {
      "image/png": "[encoded data removed]",
      "text/plain": [
       "<Figure size 200x200 with 1 Axes>"
      ]
     },
     "metadata": {},
     "output_type": "display_data"
    }
   ],
   "source": [
    "philadelphia[['HousePrice']].boxplot(figsize=(2, 2))\n",
    "plt.show()"
   ]
  },
  {
   "cell_type": "code",
   "execution_count": null,
   "id": "f2b14163",
   "metadata": {},
   "outputs": [],
   "source": [
    "# plt.boxplot?"
   ]
  },
  {
   "cell_type": "code",
   "execution_count": 9,
   "id": "3857dc90",
   "metadata": {},
   "outputs": [
    {
     "data": {
      "image/png": "[encoded data removed]",
      "text/plain": [
       "<Figure size 200x200 with 1 Axes>"
      ]
     },
     "metadata": {},
     "output_type": "display_data"
    }
   ],
   "source": [
    "philadelphia[['CrimeRate']].boxplot(figsize=(2, 2))\n",
    "plt.show()"
   ]
  },
  {
   "cell_type": "code",
   "execution_count": 10,
   "id": "09394ea8",
   "metadata": {},
   "outputs": [
    {
     "data": {
      "image/png": "[encoded data removed]",
      "text/plain": [
       "<Figure size 300x300 with 2 Axes>"
      ]
     },
     "metadata": {},
     "output_type": "display_data"
    }
   ],
   "source": [
    "philadelphia[['CrimeRate', 'HousePrice',]].hist(bins=10)\n",
    "plt.tight_layout()\n",
    "plt.show()"
   ]
  },
  {
   "cell_type": "code",
   "execution_count": 11,
   "id": "143872d1",
   "metadata": {},
   "outputs": [
    {
     "data": {
      "image/png": "[encoded data removed]",
      "text/plain": [
       "<Figure size 300x300 with 1 Axes>"
      ]
     },
     "metadata": {},
     "output_type": "display_data"
    }
   ],
   "source": [
    "philadelphia.plot.scatter(x='CrimeRate', y='HousePrice', marker='.')\n",
    "plt.show()"
   ]
  },
  {
   "cell_type": "markdown",
   "id": "622b3215",
   "metadata": {},
   "source": [
    "## prediction en présence de l'outlier"
   ]
  },
  {
   "cell_type": "code",
   "execution_count": 12,
   "id": "9b73c566",
   "metadata": {},
   "outputs": [],
   "source": [
    "from sklearn.preprocessing import StandardScaler"
   ]
  },
  {
   "cell_type": "code",
   "execution_count": 13,
   "id": "2711e8f9",
   "metadata": {},
   "outputs": [],
   "source": [
    "from sklearn.linear_model import LinearRegression"
   ]
  },
  {
   "cell_type": "code",
   "execution_count": 14,
   "id": "88e6ab3a",
   "metadata": {},
   "outputs": [
    {
     "data": {
      "text/plain": [
       "(99, 2)"
      ]
     },
     "execution_count": 14,
     "metadata": {},
     "output_type": "execute_result"
    }
   ],
   "source": [
    "philadelphia.shape"
   ]
  },
  {
   "cell_type": "code",
   "execution_count": 15,
   "id": "e6697ab2",
   "metadata": {},
   "outputs": [
    {
     "data": {
      "text/plain": [
       "(99, 1)"
      ]
     },
     "execution_count": 15,
     "metadata": {},
     "output_type": "execute_result"
    }
   ],
   "source": [
    "philadelphia[['CrimeRate']].shape"
   ]
  },
  {
   "cell_type": "code",
   "execution_count": 16,
   "id": "6e6bd077",
   "metadata": {},
   "outputs": [],
   "source": [
    "X = philadelphia[['CrimeRate']] # we input a dataframe\n",
    "y = philadelphia['HousePrice']  # we predict a colonne"
   ]
  },
  {
   "cell_type": "code",
   "execution_count": 17,
   "id": "3a634b9c",
   "metadata": {},
   "outputs": [],
   "source": [
    "X_std = StandardScaler().fit_transform(X)"
   ]
  },
  {
   "cell_type": "code",
   "execution_count": 18,
   "id": "bbd2d24f",
   "metadata": {},
   "outputs": [],
   "source": [
    "X_std = StandardScaler().fit(X).transform(X)"
   ]
  },
  {
   "cell_type": "markdown",
   "id": "d45cf961",
   "metadata": {},
   "source": [
    "il faudrait utiliser un pipeline  \n",
    "on le laisse en exercice"
   ]
  },
  {
   "cell_type": "code",
   "execution_count": 19,
   "id": "128948e6",
   "metadata": {},
   "outputs": [],
   "source": [
    "regr = LinearRegression()"
   ]
  },
  {
   "cell_type": "code",
   "execution_count": 20,
   "id": "7daf29f5",
   "metadata": {},
   "outputs": [],
   "source": [
    "regr = regr.fit(X_std, y)"
   ]
  },
  {
   "cell_type": "markdown",
   "id": "bd4a5f63",
   "metadata": {
    "slideshow": {
     "slide_type": "-"
    }
   },
   "source": [
    "on regarde les valeurs des paramètres `intercept_` et `coef_` qui ont été entraînés"
   ]
  },
  {
   "cell_type": "code",
   "execution_count": 21,
   "id": "27d932dd",
   "metadata": {},
   "outputs": [
    {
     "data": {
      "text/plain": [
       "(157835.60606060605, -21547.99513251901)"
      ]
     },
     "execution_count": 21,
     "metadata": {},
     "output_type": "execute_result"
    }
   ],
   "source": [
    "regr.intercept_, regr.coef_[0]"
   ]
  },
  {
   "cell_type": "markdown",
   "id": "63196846",
   "metadata": {
    "slideshow": {
     "slide_type": "-"
    }
   },
   "source": [
    "on prédit nos valeurs pour `y`"
   ]
  },
  {
   "cell_type": "code",
   "execution_count": 22,
   "id": "464377f7",
   "metadata": {},
   "outputs": [],
   "source": [
    "y_predict = regr.predict(X_std)"
   ]
  },
  {
   "cell_type": "code",
   "execution_count": 23,
   "id": "bd2c8a68",
   "metadata": {},
   "outputs": [],
   "source": [
    "from sklearn.metrics import mean_squared_error"
   ]
  },
  {
   "cell_type": "markdown",
   "id": "aa60b560",
   "metadata": {},
   "source": [
    "on calcule l'erreur"
   ]
  },
  {
   "cell_type": "code",
   "execution_count": 24,
   "id": "d943b26d",
   "metadata": {},
   "outputs": [
    {
     "data": {
      "text/plain": [
       "6967063954.553143"
      ]
     },
     "execution_count": 24,
     "metadata": {},
     "output_type": "execute_result"
    }
   ],
   "source": [
    "mean_squared_error(y_predict, y) # ouh elle est très grande"
   ]
  },
  {
   "cell_type": "markdown",
   "id": "c1b768f1",
   "metadata": {
    "slideshow": {
     "slide_type": "-"
    }
   },
   "source": [
    "on calcule le score  \n",
    "on choisit *the coefficient of determination $r^2$ of the prediction*  \n",
    "soit la méthode `score` de la regression  \n",
    "soit la fonction `r2_score` de `metrics`"
   ]
  },
  {
   "cell_type": "code",
   "execution_count": 25,
   "id": "cda6ad0b",
   "metadata": {},
   "outputs": [],
   "source": [
    "from sklearn.metrics import r2_score"
   ]
  },
  {
   "cell_type": "markdown",
   "id": "10ed57b1",
   "metadata": {},
   "source": [
    "ce score est défini comme $1 - \\dfrac{u}{v}$ où\n",
    "- $u$ est la MSE entre $y$ et $y_{pred}$\n",
    "- $v$ est ((y_true - y_true.mean()) ** 2).sum()\n",
    "\n",
    "un modèle constant qui prédirait toujours l'espérance de `y`, quelle que soit l'entrée a un score de $0$  \n",
    "le meilleur score est à $1$\n",
    "\n",
    "dans l'implémentation `score` ou `metrics.r2_score` si $v$ est $0$ (`y` constant) la fonction renvoie, pr défaut,  $1$ "
   ]
  },
  {
   "cell_type": "code",
   "execution_count": 26,
   "id": "d33f2e63",
   "metadata": {},
   "outputs": [
    {
     "data": {
      "text/plain": [
       "0.06248046677508112"
      ]
     },
     "execution_count": 26,
     "metadata": {},
     "output_type": "execute_result"
    }
   ],
   "source": [
    "u = np.sum(np.square(y - y_predict))\n",
    "v = np.sum(np.square(y - np.mean(y)))\n",
    "\n",
    "1 - (u/v)"
   ]
  },
  {
   "cell_type": "code",
   "execution_count": 27,
   "id": "236dca4a",
   "metadata": {},
   "outputs": [
    {
     "data": {
      "text/plain": [
       "0.06248046677508112"
      ]
     },
     "execution_count": 27,
     "metadata": {},
     "output_type": "execute_result"
    }
   ],
   "source": [
    "regr.score(X_std, y)"
   ]
  },
  {
   "cell_type": "code",
   "execution_count": 28,
   "id": "4372d1bc",
   "metadata": {},
   "outputs": [
    {
     "data": {
      "text/plain": [
       "0.06248046677508112"
      ]
     },
     "execution_count": 28,
     "metadata": {},
     "output_type": "execute_result"
    }
   ],
   "source": [
    "r2_score(y, y_predict)"
   ]
  },
  {
   "cell_type": "markdown",
   "id": "fdf6e416",
   "metadata": {},
   "source": [
    "il est très mauvais il rejoint le score naïf"
   ]
  },
  {
   "cell_type": "markdown",
   "id": "4cee2eeb",
   "metadata": {
    "slideshow": {
     "slide_type": "-"
    }
   },
   "source": [
    "on plot le `y` prédit et le `y` mesuré (celui du csv)  \n",
    "en fonction de la colonne `CrimeRate`"
   ]
  },
  {
   "cell_type": "code",
   "execution_count": 29,
   "id": "9aab9e37",
   "metadata": {},
   "outputs": [
    {
     "data": {
      "image/png": "[encoded data removed]",
      "text/plain": [
       "<Figure size 300x300 with 1 Axes>"
      ]
     },
     "metadata": {},
     "output_type": "display_data"
    }
   ],
   "source": [
    "plt.plot(X_std, y, 'b.')\n",
    "plt.plot(X_std, y_predict, 'r-'); # la droite des prédictions\n",
    "plt.show()"
   ]
  },
  {
   "cell_type": "markdown",
   "id": "42a4588e",
   "metadata": {
    "slideshow": {
     "slide_type": "-"
    }
   },
   "source": [
    "idem si on plot la ligne `y = intercept + coeff_0 X`"
   ]
  },
  {
   "cell_type": "code",
   "execution_count": 30,
   "id": "91368429",
   "metadata": {},
   "outputs": [
    {
     "data": {
      "image/png": "[encoded data removed]",
      "text/plain": [
       "<Figure size 300x300 with 1 Axes>"
      ]
     },
     "metadata": {},
     "output_type": "display_data"
    }
   ],
   "source": [
    "plt.plot(X_std, y, 'b.')\n",
    "plt.plot([np.min(X_std), np.max(X_std)],\n",
    "         [(regr.intercept_ + regr.coef_[0] * i) for i in [np.min(X_std), np.max(X_std)]], 'g-');\n",
    "plt.show()"
   ]
  },
  {
   "cell_type": "markdown",
   "id": "9ec1a66c",
   "metadata": {},
   "source": [
    "la droite de regression est clairement attirée par le point extrême "
   ]
  },
  {
   "cell_type": "markdown",
   "id": "c68ee1bb",
   "metadata": {},
   "source": [
    "## prediction en absence de l'outlier"
   ]
  },
  {
   "cell_type": "markdown",
   "id": "e1b960ad",
   "metadata": {
    "slideshow": {
     "slide_type": "-"
    }
   },
   "source": [
    "on va enlever notre outlier"
   ]
  },
  {
   "cell_type": "code",
   "execution_count": 31,
   "id": "bfdc0a1c",
   "metadata": {},
   "outputs": [
    {
     "data": {
      "text/plain": [
       "62"
      ]
     },
     "execution_count": 31,
     "metadata": {},
     "output_type": "execute_result"
    }
   ],
   "source": [
    "philadelphia['CrimeRate'].argmax() # on le cherche"
   ]
  },
  {
   "cell_type": "code",
   "execution_count": 32,
   "id": "c71c4acd",
   "metadata": {},
   "outputs": [
    {
     "data": {
      "text/plain": [
       "366.1"
      ]
     },
     "execution_count": 32,
     "metadata": {},
     "output_type": "execute_result"
    }
   ],
   "source": [
    "philadelphia['CrimeRate'].max()"
   ]
  },
  {
   "cell_type": "code",
   "execution_count": 33,
   "id": "4832bfaf",
   "metadata": {},
   "outputs": [
    {
     "data": {
      "text/plain": [
       "HousePrice    96200.0\n",
       "CrimeRate       366.1\n",
       "Name: 62, dtype: float64"
      ]
     },
     "execution_count": 33,
     "metadata": {},
     "output_type": "execute_result"
    }
   ],
   "source": [
    "philadelphia.iloc[62] # c'est donc lui"
   ]
  },
  {
   "cell_type": "code",
   "execution_count": 34,
   "id": "96fa0587",
   "metadata": {},
   "outputs": [],
   "source": [
    "philadelphia.drop(62, axis=0, inplace=True) # on le drop (axis à 0 parce qu'on drop une observation)\n",
    "                                            # (1 ce sont les colones)"
   ]
  },
  {
   "cell_type": "markdown",
   "id": "484fcc0d",
   "metadata": {},
   "source": [
    "et on recommence tout ..."
   ]
  },
  {
   "cell_type": "code",
   "execution_count": 35,
   "id": "efa2f96c",
   "metadata": {},
   "outputs": [
    {
     "data": {
      "image/png": "[encoded data removed]",
      "text/plain": [
       "<Figure size 300x300 with 1 Axes>"
      ]
     },
     "metadata": {},
     "output_type": "display_data"
    }
   ],
   "source": [
    "philadelphia.plot.scatter(x='CrimeRate', y='HousePrice', marker='.', figsize=(3, 3))\n",
    "plt.show()"
   ]
  },
  {
   "cell_type": "code",
   "execution_count": 36,
   "id": "92570242",
   "metadata": {},
   "outputs": [
    {
     "data": {
      "text/plain": [
       "0.18422882936911944"
      ]
     },
     "execution_count": 36,
     "metadata": {},
     "output_type": "execute_result"
    }
   ],
   "source": [
    "X = philadelphia[['CrimeRate']] # we input a dataframe\n",
    "y = philadelphia['HousePrice']  # we predict a colonne\n",
    "\n",
    "X_std = StandardScaler().fit_transform(X)\n",
    "regr = linear_model.LinearRegression()\n",
    "regr = regr.fit(X_std, y)\n",
    "\n",
    "y_predict = regr.predict(X_std)\n",
    "\n",
    "regr.score(X_std, y)"
   ]
  },
  {
   "cell_type": "markdown",
   "id": "9674901d",
   "metadata": {},
   "source": [
    "il est un peu moins mauvais"
   ]
  },
  {
   "cell_type": "code",
   "execution_count": 37,
   "id": "034ef41b",
   "metadata": {},
   "outputs": [],
   "source": [
    "plt.plot(X_std, y, 'b.')\n",
    "plt.plot(X_std, y_predict, 'r-'); # la droite des prédictions"
   ]
  },
  {
   "cell_type": "markdown",
   "id": "0b594bf7",
   "metadata": {
    "slideshow": {
     "slide_type": "-"
    }
   },
   "source": [
    "idem si on plot la ligne `y = intercept + coeff_0 X`"
   ]
  },
  {
   "cell_type": "code",
   "execution_count": 38,
   "id": "eb65375b",
   "metadata": {},
   "outputs": [
    {
     "data": {
      "image/png": "[encoded data removed]",
      "text/plain": [
       "<Figure size 300x300 with 1 Axes>"
      ]
     },
     "metadata": {},
     "output_type": "display_data"
    }
   ],
   "source": [
    "plt.plot(X_std, y, 'b.')\n",
    "plt.plot([np.min(X_std), np.max(X_std)],\n",
    "         [(regr.intercept_ + regr.coef_[0] * i) for i in [np.min(X_std), np.max(X_std)]], 'g-');\n",
    "plt.show()"
   ]
  },
  {
   "cell_type": "markdown",
   "id": "296f0d73",
   "metadata": {
    "slideshow": {
     "slide_type": "-"
    }
   },
   "source": [
    "END"
   ]
  }
 ],
 "metadata": {
  "kernelspec": {
   "display_name": "Python 3",
   "language": "python",
   "name": "python3"
  },
  "language_info": {
   "codemirror_mode": {
    "name": "ipython",
    "version": 3
   },
   "file_extension": ".py",
   "mimetype": "text/x-python",
   "name": "python",
   "nbconvert_exporter": "python",
   "pygments_lexer": "ipython3",
   "version": "3.10.7"
  },
  "vscode": {
   "interpreter": {
    "hash": "837c519a48be08d8749c778cb72b9b5aac116a087aa5d1d99ee0359dceff73e6"
   }
  }
 },
 "nbformat": 4,
 "nbformat_minor": 5
}
